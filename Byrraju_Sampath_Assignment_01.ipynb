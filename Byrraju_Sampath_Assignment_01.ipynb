{
  "cells": [
    {
      "cell_type": "markdown",
      "metadata": {
        "id": "view-in-github",
        "colab_type": "text"
      },
      "source": [
        "<a href=\"https://colab.research.google.com/github/Sampath-Varma/Sampath_INFO5731_Fall2024/blob/main/Byrraju_Sampath_Assignment_01.ipynb\" target=\"_parent\"><img src=\"https://colab.research.google.com/assets/colab-badge.svg\" alt=\"Open In Colab\"/></a>"
      ]
    },
    {
      "cell_type": "markdown",
      "metadata": {
        "id": "Ryk8D1Q4Wsrp"
      },
      "source": [
        "# **INFO5731 Assignment One**"
      ]
    },
    {
      "cell_type": "markdown",
      "metadata": {
        "id": "qcP6re2g5A5r"
      },
      "source": [
        "This assignment includes range of programming tasks and data analysis exercises, aiming to enhance your Python skills and proficiency in string manipulation, numerical computations, and data science. Follow the instructions carefully and design well-structured Python programs to address each question.\n",
        "\n",
        "Late Submission will have a penalty of 10% reduction for each day after the deadline."
      ]
    },
    {
      "cell_type": "markdown",
      "metadata": {
        "id": "JkzR8cFAyGik"
      },
      "source": [
        "# Question 1 (10 points).\n",
        "\n",
        "The formula that describes the volume V of a hemisphere with radius r is the following:\n",
        "\n",
        "$ V=\\frac{2}{3}\\ast\\ \\pi\\ast\\ r^3 $\n",
        "\n",
        "Write a program to calculate the value of V when r is in the range of even numbers from 1-20. Output the result in the following format:\n",
        "\n",
        "\tr\tV\n",
        "\t2\t…\n",
        "\t4\t…\n",
        "\t6\t…\n",
        "\t.\n",
        "\t.\n",
        "\t.\n",
        "\t20\t…\n"
      ]
    },
    {
      "cell_type": "code",
      "execution_count": 33,
      "metadata": {
        "colab": {
          "base_uri": "https://localhost:8080/"
        },
        "id": "jDyTKYs-yGit",
        "outputId": "f2d0fbab-16c6-41a9-ff54-19ce87a374bd"
      },
      "outputs": [
        {
          "output_type": "stream",
          "name": "stdout",
          "text": [
            "r    V\n",
            "2    16.76\n",
            "4    134.04\n",
            "6    452.39\n",
            "8    1072.33\n",
            "10    2094.40\n",
            "12    3619.11\n",
            "14    5747.02\n",
            "16    8578.64\n",
            "18    12214.51\n",
            "20    16755.16\n"
          ]
        }
      ],
      "source": [
        "# Your code here\n",
        "import math\n",
        "def calculate_hemisphere_volume(r):\n",
        "    return (2/3) * math.pi * r**3\n",
        "print(\"r    V\")\n",
        "for r in range(2, 21, 2):\n",
        "    V = calculate_hemisphere_volume(r)\n",
        "    print(f\"{r}    {V:.2f}\")\n",
        "\n"
      ]
    },
    {
      "cell_type": "markdown",
      "metadata": {
        "id": "90_NR8c5XGWc"
      },
      "source": [
        "# Question 2 (20 points)\n",
        "\n",
        "(a) Write a Python program to generate a sequence of 12 random numbers falling within the range of 50 to 150.\n",
        "\n",
        "(b) Arrange the generated numbers in ascending order. Display the sorted list.\n",
        "\n",
        "(c) Extend the program to arrange the numbers in descending order as well. Present the sorted list accordingly.\n",
        "\n",
        "(d) Compute and output the average of the entire group of generated numbers.\n",
        "\n",
        "(e) Enhance the program to calculate and display the average of the first 6 numbers from both the ascending and descending sorted lists."
      ]
    },
    {
      "cell_type": "code",
      "execution_count": null,
      "metadata": {
        "colab": {
          "base_uri": "https://localhost:8080/"
        },
        "id": "5QX6bJjGWXY9",
        "outputId": "091b7424-3e7b-4cd7-a78e-52cf140ae607"
      },
      "outputs": [
        {
          "output_type": "stream",
          "name": "stdout",
          "text": [
            "Generated random numbers: [136, 56, 50, 116, 111, 115, 102, 143, 132, 146, 148, 120]\n",
            "\n",
            "Numbers in ascending order: [50, 56, 102, 111, 115, 116, 120, 132, 136, 143, 146, 148]\n",
            "\n",
            "Numbers in descending order: [148, 146, 143, 136, 132, 120, 116, 115, 111, 102, 56, 50]\n",
            "\n",
            "Average of entire group: 114.58\n",
            "\n",
            "Average of the first 6 numbers (ascending): 91.67\n",
            "Average of the first 6 numbers (descending): 137.50\n"
          ]
        }
      ],
      "source": [
        "# Write code for each of the sub parts with proper comments.\n",
        "import random\n",
        "\n",
        "# (a) Generate a sequence of 12 random numbers in the range of 50 to 150\n",
        "random_numbers = [random.randint(50, 150) for _ in range(12)]\n",
        "print(\"Generated random numbers:\", random_numbers)\n",
        "\n",
        "# (b) Arrange the numbers in ascending order\n",
        "ascending_numbers = sorted(random_numbers)\n",
        "print(\"\\nNumbers in ascending order:\", ascending_numbers)\n",
        "\n",
        "# (c) Arrange the numbers in descending order\n",
        "descending_numbers = sorted(random_numbers, reverse=True)\n",
        "print(\"\\nNumbers in descending order:\", descending_numbers)\n",
        "\n",
        "# (d) Compute and output the average of all generated numbers\n",
        "average_all = sum(random_numbers) / len(random_numbers)\n",
        "print(f\"\\nAverage of entire group: {average_all:.2f}\")\n",
        "\n",
        "# (e) Compute the average of the first 6 numbers from both ascending and descending sorted lists\n",
        "average_first_6_asc = sum(ascending_numbers[:6]) / 6\n",
        "average_first_6_desc = sum(descending_numbers[:6]) / 6\n",
        "\n",
        "print(f\"\\nAverage of the first 6 numbers (ascending): {average_first_6_asc:.2f}\")\n",
        "print(f\"Average of the first 6 numbers (descending): {average_first_6_desc:.2f}\")\n",
        "\n"
      ]
    },
    {
      "cell_type": "markdown",
      "metadata": {
        "id": "1F_PZdH9Sh49"
      },
      "source": [
        "# Question 3 (20 points).\n",
        "\n",
        "Create a Python program that encompasses various string manipulation task:\n",
        "\n",
        "(a) Prompt the user to input two sentences.\n",
        "\n",
        "(b) Transform each sentence into a list, where each element corresponds to a word in the sentence. For example, if the sentences are \"Hello, how are you doing today?\" and \"This is an example sentence for the program!\"\n",
        "\n",
        "The program should output:\n",
        "['Hello', ',', 'how', 'are', 'you', 'doing', 'today', '?', 'This', 'is', 'an', 'example', 'sentence', 'for', 'the', 'program', '!']\n",
        "\n",
        "(c) Compare the two sentences. Print out a list of words that occur in both sentences.\n",
        "\n",
        "(d) Remove any punctuation from the sentence and print the sanitized sentences. It should remove at least the following characters, but it can remove more: period(“.”), comma (“,”), semicolon (“;”), and colon (“:”).\n",
        "\n",
        "(e) Count the number of vowels in each of the sentences. Print out each vowel and the occurrences  in the each of the two sentences separately, such as:\n",
        "\n",
        "Sentence1: a:2, e:2, i:0, etc.\n",
        "Sentence2: a:1, e:2, i:2, etc.\n",
        "\n",
        "Design a well-structured Python program to execute these tasks efficiently."
      ]
    },
    {
      "cell_type": "code",
      "execution_count": null,
      "metadata": {
        "colab": {
          "base_uri": "https://localhost:8080/"
        },
        "id": "maGZYoQ-NWes",
        "outputId": "6b892f8c-723c-40a7-d153-8ee3796a7550"
      },
      "outputs": [
        {
          "name": "stdout",
          "output_type": "stream",
          "text": [
            "Enter the first sentence: I am dreaming.\n",
            "Enter the second sentence: Am I really dreaming ?\n"
          ]
        }
      ],
      "source": [
        "# (a) Prompt the user to input two sentences\n",
        "sentence1 = input(\"Enter the first sentence: \")\n",
        "sentence2 = input(\"Enter the second sentence: \")"
      ]
    },
    {
      "cell_type": "code",
      "execution_count": null,
      "metadata": {
        "colab": {
          "base_uri": "https://localhost:8080/"
        },
        "id": "kTgB-ryUNqjk",
        "outputId": "db7cce04-12ec-4cfe-99e2-cc8d8cc4b67b"
      },
      "outputs": [
        {
          "output_type": "stream",
          "name": "stdout",
          "text": [
            "Combined list of words: ['I', 'am', 'dreaming.', 'Am', 'I', 'really', 'dreaming', '?']\n"
          ]
        }
      ],
      "source": [
        "# (b) Transform each sentence into a list, where each element corresponds to a word\n",
        "sentence1_list = sentence1.split()\n",
        "sentence2_list = sentence2.split()\n",
        "\n",
        "# Combine the two sentences into a single list\n",
        "combined_list = sentence1_list + sentence2_list\n",
        "print(\"Combined list of words:\", combined_list)"
      ]
    },
    {
      "cell_type": "code",
      "execution_count": null,
      "metadata": {
        "colab": {
          "base_uri": "https://localhost:8080/"
        },
        "id": "g4WCrrgQNu5a",
        "outputId": "ee8bde5b-d4fc-4e51-ebbc-01a24a710d9a"
      },
      "outputs": [
        {
          "output_type": "stream",
          "name": "stdout",
          "text": [
            "Common words in both sentences: ['I']\n"
          ]
        }
      ],
      "source": [
        "# (c) Compare the two sentences and print common words\n",
        "common_words = set(sentence1_list) & set(sentence2_list)  # intersection of sets\n",
        "print(\"Common words in both sentences:\", list(common_words))"
      ]
    },
    {
      "cell_type": "code",
      "execution_count": null,
      "metadata": {
        "colab": {
          "base_uri": "https://localhost:8080/"
        },
        "id": "SNC8smWgOLNa",
        "outputId": "47865af4-b071-47c9-872b-e44d0e5df6e5"
      },
      "outputs": [
        {
          "output_type": "stream",
          "name": "stdout",
          "text": [
            "Sanitized Sentence 1 : I am dreaming\n",
            "Sanitized Sentence 2 : Am I really dreaming ?\n"
          ]
        }
      ],
      "source": [
        "# (d) Remove punctuation from sentences\n",
        "def remove_specific_punctuation(sentence):\n",
        "    # Define punctuation to remove: period, comma, semicolon, colon\n",
        "    punctuation_to_remove = \".,;:\"\n",
        "    return sentence.translate(str.maketrans('', '', punctuation_to_remove))\n",
        "\n",
        "# (d) Remove specified punctuation from the sentences\n",
        "sanitized_sentence1 = remove_specific_punctuation(sentence1)\n",
        "sanitized_sentence2 = remove_specific_punctuation(sentence2)\n",
        "\n",
        "print(\"Sanitized Sentence 1 :\", sanitized_sentence1)\n",
        "print(\"Sanitized Sentence 2 :\", sanitized_sentence2)\n"
      ]
    },
    {
      "cell_type": "code",
      "execution_count": null,
      "metadata": {
        "colab": {
          "base_uri": "https://localhost:8080/"
        },
        "id": "EuxNnkyIOQW8",
        "outputId": "04726a7e-871b-4bf9-a811-817a013a2d4e"
      },
      "outputs": [
        {
          "output_type": "stream",
          "name": "stdout",
          "text": [
            "Vowel count in Sentence 1:\n",
            "a: 2\n",
            "e: 1\n",
            "i: 2\n",
            "o: 0\n",
            "u: 0\n",
            "\n",
            "Vowel count in Sentence 2:\n",
            "a: 3\n",
            "e: 2\n",
            "i: 2\n",
            "o: 0\n",
            "u: 0\n"
          ]
        }
      ],
      "source": [
        "# (e) Count the number of vowels in each sentence\n",
        "vowel_count1 = count_vowels(sanitized_sentence1)\n",
        "vowel_count2 = count_vowels(sanitized_sentence2)\n",
        "\n",
        "# Print vowel counts for each sentence\n",
        "print(\"Vowel count in Sentence 1:\")\n",
        "for vowel, count in vowel_count1.items():\n",
        "    print(f\"{vowel}: {count}\")\n",
        "\n",
        "print(\"\\nVowel count in Sentence 2:\")\n",
        "for vowel, count in vowel_count2.items():\n",
        "    print(f\"{vowel}: {count}\")"
      ]
    },
    {
      "cell_type": "markdown",
      "metadata": {
        "id": "OP4-5qxAtInv"
      },
      "source": [
        "# Question 4 (20 Points)"
      ]
    },
    {
      "cell_type": "markdown",
      "metadata": {
        "id": "uzN4_hDptK9U"
      },
      "source": [
        "Design and implement a simple command-line calculator program. The program should handle both integers and floating-point numbers.\n",
        "\n",
        "(a) Write program that takes a mathematical expression as input and evaluates it. The program should support addition, subtraction, multiplication, and division.\n",
        "\n",
        "(b) Extend the calculator to handle parentheses in mathematical expressions. Implement the necessary logic to evaluate expressions with nested parentheses.\n",
        "\n",
        "(c) Enhance your calculator to include additional mathematical operations such as exponentiation, square root, and modulus.\n",
        "\n",
        "(d) Implement error handling in the calculator program. Handle cases such as division by zero and invalid input expressions. Provide meaningful error messages.\n",
        "\n",
        "(e) Implement a command to exit the calculator."
      ]
    },
    {
      "cell_type": "code",
      "source": [
        "#Write program that takes a mathematical expression as input and evaluates it. The program should support addition, subtraction, multiplication, and division.\n",
        "\n",
        "def calculator():\n",
        "    print(\"Enter 'exit' to quit.\")\n",
        "\n",
        "    while True:\n",
        "        expression = input(\"Enter a mathematical expression: \")\n",
        "        if expression.lower() == 'exit':\n",
        "            print(\"Exiting calculator.\")\n",
        "            break\n",
        "        try:\n",
        "            result = eval(expression)\n",
        "            print(f\"Result: {result}\")\n",
        "        except Exception as e:\n",
        "            print(f\"Error: {e}. Please enter a valid expression.\")\n",
        "calculator()\n"
      ],
      "metadata": {
        "id": "9e6v9L0NP0ui",
        "colab": {
          "base_uri": "https://localhost:8080/"
        },
        "outputId": "b48b7d16-7223-491f-883c-9a6706461ded"
      },
      "execution_count": null,
      "outputs": [
        {
          "output_type": "stream",
          "name": "stdout",
          "text": [
            "Enter 'exit' to quit.\n",
            "Enter a mathematical expression: 3+4\n",
            "Result: 7\n",
            "Enter a mathematical expression: exit\n",
            "Exiting calculator.\n"
          ]
        }
      ]
    },
    {
      "cell_type": "code",
      "source": [
        "# Extend the calculator to handle parentheses in mathematical expressions. Implement the necessary logic to evaluate expressions with nested parentheses.\n",
        "\n",
        "def calculator():\n",
        "    print(\"Enter 'exit' to quit.\")\n",
        "\n",
        "    while True:\n",
        "        expression = input(\"Enter a mathematical expression with parentheses (if any): \")\n",
        "        if expression.lower() == 'exit':\n",
        "            print(\"Exiting calculator.\")\n",
        "            break\n",
        "        try:\n",
        "            result = eval(expression)\n",
        "            print(f\"Result: {result}\")\n",
        "        except Exception as e:\n",
        "            print(f\"Error: {e}. Please enter a valid expression.\")\n",
        "calculator()\n"
      ],
      "metadata": {
        "colab": {
          "base_uri": "https://localhost:8080/"
        },
        "id": "OaV92ChNEoQ9",
        "outputId": "3810cc3b-80e0-49eb-f900-a0fefb4e3679"
      },
      "execution_count": null,
      "outputs": [
        {
          "output_type": "stream",
          "name": "stdout",
          "text": [
            "Enter 'exit' to quit.\n",
            "Enter a mathematical expression with parentheses (if any): 3+(4-3)\n",
            "Result: 4\n",
            "Enter a mathematical expression with parentheses (if any): exit\n",
            "Exiting calculator.\n"
          ]
        }
      ]
    },
    {
      "cell_type": "code",
      "source": [
        "# Enhance your calculator to include additional mathematical operations such as exponentiation, square root, and modulus.\n",
        "import math\n",
        "def calculator():\n",
        "    print(\"Enter 'exit' to quit.\")\n",
        "\n",
        "    while True:\n",
        "        expression = input(\"Enter a mathematical expression: \")\n",
        "        if expression.lower() == 'exit':\n",
        "            print(\"Exiting calculator.\")\n",
        "            break\n",
        "\n",
        "        try:\n",
        "            result = eval(expression, {'sqrt': math.sqrt, 'pow': math.pow, '__builtins__': None})\n",
        "            print(f\"Result: {result}\")\n",
        "        except Exception as e:\n",
        "            print(f\"Error: {e}. Please enter a valid expression.\")\n",
        "calculator()\n"
      ],
      "metadata": {
        "colab": {
          "base_uri": "https://localhost:8080/"
        },
        "id": "p2AqkuyIFzQi",
        "outputId": "f1dddedb-4b11-47c4-a5ab-f779f8b3a505"
      },
      "execution_count": null,
      "outputs": [
        {
          "output_type": "stream",
          "name": "stdout",
          "text": [
            "Enter 'exit' to quit.\n",
            "Enter a mathematical expression: 3**3\n",
            "Result: 27\n",
            "Enter a mathematical expression: exit\n",
            "Exiting calculator.\n"
          ]
        }
      ]
    },
    {
      "cell_type": "code",
      "source": [
        "#Implement error handling in the calculator program. Handle cases such as division by zero and invalid input expressions. Provide meaningful error messages.\n",
        "import math\n",
        "def calculator():\n",
        "    print(\"Enter 'exit' to quit.\")\n",
        "\n",
        "    while True:\n",
        "        expression = input(\"Enter a mathematical expression: \")\n",
        "        if expression.lower() == 'exit':\n",
        "            print(\"Exiting calculator.\")\n",
        "            break\n",
        "\n",
        "        try:\n",
        "            result = eval(expression, {'sqrt': math.sqrt, 'pow': math.pow, '__builtins__': None})\n",
        "            print(f\"Result: {result}\")\n",
        "\n",
        "        except ZeroDivisionError:\n",
        "            print(\"Error: Division by zero is not allowed.\")\n",
        "\n",
        "        except (SyntaxError, NameError):\n",
        "            print(\"Error: Invalid expression. Please enter a valid mathematical expression.\")\n",
        "\n",
        "        except Exception as e:\n",
        "            print(f\"An error occurred: {e}. Please enter a valid expression.\")\n",
        "\n",
        "calculator()\n"
      ],
      "metadata": {
        "colab": {
          "base_uri": "https://localhost:8080/"
        },
        "id": "WB5kuLQ9GsWV",
        "outputId": "db77ccd2-e0c7-4a51-efdf-4b4c91e7c300"
      },
      "execution_count": null,
      "outputs": [
        {
          "output_type": "stream",
          "name": "stdout",
          "text": [
            "Enter 'exit' to quit.\n",
            "Enter a mathematical expression: 3/0\n",
            "Error: Division by zero is not allowed.\n",
            "Enter a mathematical expression: exit\n",
            "Exiting calculator.\n"
          ]
        }
      ]
    },
    {
      "cell_type": "code",
      "source": [
        "#Implement a command to exit the calculator.\n",
        "import math\n",
        "def calculator():\n",
        "    print(\"Enter 'exit' to quit.\")\n",
        "\n",
        "    while True:\n",
        "        expression = input(\"Enter a mathematical expression: \")\n",
        "        if expression.lower() == 'exit':\n",
        "            print(\"Exiting calculator.\")\n",
        "            break\n",
        "\n",
        "        try:\n",
        "            result = eval(expression, {'sqrt': math.sqrt, 'pow': math.pow, '__builtins__': None})\n",
        "            print(f\"Result: {result}\")\n",
        "\n",
        "        except ZeroDivisionError:\n",
        "            print(\"Error: Division by zero is not allowed.\")\n",
        "\n",
        "        except (SyntaxError, NameError):\n",
        "            print(\"Error: Invalid expression. Please enter a valid expression.\")\n",
        "\n",
        "        except Exception as e:\n",
        "            print(f\"An error occurred: {e}. Please enter a valid expression.\")\n",
        "calculator()\n"
      ],
      "metadata": {
        "colab": {
          "base_uri": "https://localhost:8080/"
        },
        "id": "joAYkvU-G0s9",
        "outputId": "31792bbe-1107-4dd5-b478-4b777631b6fb"
      },
      "execution_count": null,
      "outputs": [
        {
          "output_type": "stream",
          "name": "stdout",
          "text": [
            "Enter 'exit' to quit.\n",
            "Enter a mathematical expression: 3-4\n",
            "Result: -1\n",
            "Enter a mathematical expression: exit\n",
            "Exiting calculator.\n"
          ]
        }
      ]
    },
    {
      "cell_type": "markdown",
      "metadata": {
        "id": "z3tBE7E-Xn5X"
      },
      "source": [
        "# Question 5 (30 points).\n",
        "\n",
        "In the field of Data Science, data is often formatted as a comma-delimited (CSV) file, where each line in a file corresponds to a field's value. Refer to Chapter 9 (p. 106) for more information on comma-delimited files.\n",
        "\n",
        "To answer this question, you will need to download the file [Assignment1_denton_housing.csv](https://raw.githubusercontent.com/unt-iialab/info5731-spring2022/main/assignments/Assignment1_denton_housing.csv) included with this assignment. The file contains statistics about housing in the city of Denton from 2008 to 2014. Write a program to implement the following questions.\n",
        "\n",
        "(a) (5 pts) Calculate the difference in the number of Occupied Housing Units from year to year and print it. The difference must be calculated for the consecutive years such as 2008-2009, 2009-2010 etc. Finally, print the values in the ascending order.\n",
        "\n",
        "(b) (5 pts) For all the years, calculate the percentage of housing units which are vacant an occupied. Print the results in the following format:\n",
        "\n",
        "Year Vacant Housing Units Occupied Housing Units\n",
        "\n",
        "    2008  30%   70%                          \n",
        "\t2009 ----- -----\n",
        "\t2010 ----- -----\n",
        "    2011 ----- -----\n",
        "\t2012 ----- -----\n",
        "    2013 ----- -----\n",
        "\t2014 ----- -----\n",
        "  \n",
        "  \n",
        "\n",
        "(c) (10 pts) Calculate and print the valued and years in which the highest number of housing units were vacant and occupied. Print the results in the following format:  \n",
        "\n",
        "                              Year\tValue\n",
        "\tVacant Housing Units\t  -----   -----\n",
        "\tOccupied Housing Units\t-----   -----\n",
        "\n",
        "(d) (10 pts) Calculate the harmonic mean of the total housing units and print it out. You can find the information about harmonic mean here: https://ncalculators.com/statistics/harmonic-mean-calculator.htm"
      ]
    },
    {
      "cell_type": "code",
      "source": [
        "import pandas as pd\n",
        "import numpy as np\n",
        "df = pd.read_csv('Assignment1_denton_housing.csv')\n",
        "df_filtered = df[df['title_field'] == 'Occupied Housing Units'].sort_values('year')\n",
        "differences = [\n",
        "    (df_filtered.iloc[i]['year'], df_filtered.iloc[i + 1]['year'], df_filtered.iloc[i + 1]['value'] - df_filtered.iloc[i]['value'])\n",
        "    for i in range(len(df_filtered) - 1)\n",
        "]\n",
        "differences_sorted = sorted(differences, key=lambda x: x[2])\n",
        "print(\"Year-to-Year Differences in Occupied Housing Units (Sorted):\")\n",
        "for year1, year2, diff in differences_sorted:\n",
        "    print(f\"From {year1} to {year2}: {diff}\")"
      ],
      "metadata": {
        "colab": {
          "base_uri": "https://localhost:8080/"
        },
        "id": "OfoQnViYl4Cq",
        "outputId": "6e379f4d-0515-48d4-ce6f-3728790c703c"
      },
      "execution_count": 49,
      "outputs": [
        {
          "output_type": "stream",
          "name": "stdout",
          "text": [
            "Year-to-Year Differences in Occupied Housing Units (Sorted):\n",
            "From 2008 to 2009: -795\n",
            "From 2010 to 2011: -303\n",
            "From 2011 to 2012: 1404\n",
            "From 2012 to 2013: 1565\n",
            "From 2013 to 2014: 2622\n",
            "From 2009 to 2010: 5091\n"
          ]
        }
      ]
    },
    {
      "cell_type": "code",
      "source": [
        "vacant_units = df[df['title_field'] == 'Vacant Housing Units'].sort_values('year')\n",
        "occupied_units = df[df['title_field'] == 'Occupied Housing Units'].sort_values('year')\n",
        "merged_df = pd.merge(vacant_units, occupied_units, on='year', suffixes=('_vacant', '_occupied'))\n",
        "merged_df['total_units'] = merged_df['value_vacant'] + merged_df['value_occupied']\n",
        "merged_df['vacant_percentage'] = (merged_df['value_vacant'] / merged_df['total_units']) * 100\n",
        "merged_df['occupied_percentage'] = (merged_df['value_occupied'] / merged_df['total_units']) * 100\n",
        "print(\"Year Vacant Housing Units Occupied Housing Units\")\n",
        "for i, row in merged_df.iterrows():\n",
        "    print(f\"{int(row['year'])} {row['vacant_percentage']:.0f}% {row['occupied_percentage']:.0f}%\")"
      ],
      "metadata": {
        "colab": {
          "base_uri": "https://localhost:8080/"
        },
        "id": "q4whea8QmBZU",
        "outputId": "fa42dc60-6e4c-4626-ee89-0d8afe61346d"
      },
      "execution_count": 50,
      "outputs": [
        {
          "output_type": "stream",
          "name": "stdout",
          "text": [
            "Year Vacant Housing Units Occupied Housing Units\n",
            "2008 11% 89%\n",
            "2009 9% 91%\n",
            "2010 8% 92%\n",
            "2011 9% 91%\n",
            "2012 7% 93%\n",
            "2013 9% 91%\n",
            "2014 6% 94%\n"
          ]
        }
      ]
    },
    {
      "cell_type": "code",
      "source": [
        "max_vacant_row = vacant_units.loc[vacant_units['value'].idxmax()]\n",
        "max_vacant_year = int(max_vacant_row['year'])\n",
        "max_vacant_value = max_vacant_row['value']\n",
        "max_occupied_row = occupied_units.loc[occupied_units['value'].idxmax()]\n",
        "max_occupied_year = int(max_occupied_row['year'])\n",
        "max_occupied_value = max_occupied_row['value']\n",
        "print(\"                          Year    Value\")\n",
        "print(f\"Vacant Housing Units      {max_vacant_year}   {max_vacant_value}\")\n",
        "print(f\"Occupied Housing Units    {max_occupied_year}   {max_occupied_value}\")"
      ],
      "metadata": {
        "colab": {
          "base_uri": "https://localhost:8080/"
        },
        "id": "6kHUqIfuoP-m",
        "outputId": "d5608565-8e12-4c08-afd4-fca816549204"
      },
      "execution_count": 51,
      "outputs": [
        {
          "output_type": "stream",
          "name": "stdout",
          "text": [
            "                          Year    Value\n",
            "Vacant Housing Units      2008   4483\n",
            "Occupied Housing Units    2014   46295\n"
          ]
        }
      ]
    },
    {
      "cell_type": "code",
      "source": [
        "def harmonic_mean(values):\n",
        "    return len(values) / np.sum(1.0 / np.array(values))\n",
        "total_units = merged_df['total_units'].values\n",
        "harmonic_mean_value = harmonic_mean(total_units)\n",
        "print(f\"Harmonic Mean of the Total Housing Units: {harmonic_mean_value:.2f}\")"
      ],
      "metadata": {
        "colab": {
          "base_uri": "https://localhost:8080/"
        },
        "id": "RrUeTAdfQE1z",
        "outputId": "1769bb82-f908-4c56-8d8c-257ebc121f3b"
      },
      "execution_count": 52,
      "outputs": [
        {
          "output_type": "stream",
          "name": "stdout",
          "text": [
            "Harmonic Mean of the Total Housing Units: 44398.29\n"
          ]
        }
      ]
    },
    {
      "cell_type": "markdown",
      "metadata": {
        "id": "q8BFCvWp32cf"
      },
      "source": [
        "# Mandatory Question\n",
        "\n",
        "Provide your thoughts on the assignment. What did you find challenging, and what aspects did you enjoy? Your opinion on the provided time to complete the assignment. Share any suggestions for improvement. Your feedback will be valuable for enhancing the learning experience."
      ]
    },
    {
      "cell_type": "code",
      "execution_count": null,
      "metadata": {
        "id": "_e557s2w4BpK"
      },
      "outputs": [],
      "source": [
        "# Write your response below\n",
        "#This assignment helped me in getting to know how to use functions in a better way and also Question 5 was quite challenging\n",
        "#where i got to import the dataset and do the required analysis. Finally this assignment helped in improving my pyhton skills."
      ]
    }
  ],
  "metadata": {
    "colab": {
      "provenance": [],
      "include_colab_link": true
    },
    "kernelspec": {
      "display_name": "Python 3 (ipykernel)",
      "language": "python",
      "name": "python3"
    },
    "language_info": {
      "codemirror_mode": {
        "name": "ipython",
        "version": 3
      },
      "file_extension": ".py",
      "mimetype": "text/x-python",
      "name": "python",
      "nbconvert_exporter": "python",
      "pygments_lexer": "ipython3",
      "version": "3.9.12"
    }
  },
  "nbformat": 4,
  "nbformat_minor": 0
}