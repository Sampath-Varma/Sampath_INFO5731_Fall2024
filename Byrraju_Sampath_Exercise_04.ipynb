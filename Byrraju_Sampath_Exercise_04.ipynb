{
  "cells": [
    {
      "cell_type": "markdown",
      "metadata": {
        "id": "view-in-github",
        "colab_type": "text"
      },
      "source": [
        "<a href=\"https://colab.research.google.com/github/Sampath-Varma/Sampath_INFO5731_Fall2024/blob/main/Byrraju_Sampath_Exercise_04.ipynb\" target=\"_parent\"><img src=\"https://colab.research.google.com/assets/colab-badge.svg\" alt=\"Open In Colab\"/></a>"
      ]
    },
    {
      "cell_type": "markdown",
      "metadata": {
        "id": "VdRwkJBn70nX"
      },
      "source": [
        "# **INFO5731 In-class Exercise 4**\n",
        "\n",
        "**This exercise will provide a valuable learning experience in working with text data and extracting features using various topic modeling algorithms. Key concepts such as Latent Dirichlet Allocation (LDA), Latent Semantic Analysis (LSA), lda2vec, and BERTopic.**"
      ]
    },
    {
      "cell_type": "markdown",
      "source": [
        "***Please use the text corpus you collected in your last in-class-exercise for this exercise. Perform the following tasks***.\n",
        "\n",
        "**Expectations**:\n",
        "*   Students are expected to complete the exercise during lecture period to meet the active participation criteria of the course.\n",
        "*   Use the provided .*ipynb* document to write your code & respond to the questions. Avoid generating a new file.\n",
        "*   Write complete answers and run all the cells before submission.\n",
        "*   Make sure the submission is \"clean\"; *i.e.*, no unnecessary code cells.\n",
        "*   Once finished, allow shared rights from top right corner (*see Canvas for details*).\n",
        "\n",
        "**Total points**: 40\n",
        "\n",
        "**Deadline**: This in-class exercise is due at the end of the day tomorrow, at 11:59 PM.\n",
        "\n",
        "**Late submissions will have a penalty of 10% of the marks for each day of late submission, and no requests will be answered. Manage your time accordingly.**\n"
      ],
      "metadata": {
        "id": "TU-pLW33lpcS"
      }
    },
    {
      "cell_type": "markdown",
      "metadata": {
        "id": "ARqm7u6B70ne"
      },
      "source": [
        "## Question 1 (10 Points)\n",
        "\n",
        "**Generate K topics by using LDA, the number of topics K should be decided by the coherence score, then summarize what are the topics.**\n",
        "\n",
        "You may refer the code here: https://www.machinelearningplus.com/nlp/topic-modeling-gensim-python/"
      ]
    },
    {
      "cell_type": "code",
      "source": [
        "import nltk\n",
        "from nltk.corpus import stopwords\n",
        "from gensim.utils import simple_preprocess\n",
        "from gensim.corpora import Dictionary\n",
        "\n",
        "nltk.download('stopwords')\n",
        "stop_words = set(stopwords.words('english'))\n",
        "\n",
        "def preprocess(text):\n",
        "    return [word for word in simple_preprocess(text) if word not in stop_words]\n",
        "\n",
        "documents = [\n",
        "    {\n",
        "        \"text\": \"The government is planning to introduce new policies in the next session of Parliament.\",\n",
        "        \"author\": \"John Doe\",\n",
        "        \"publication_date\": \"2023-05-15\"\n",
        "    },\n",
        "    {\n",
        "        \"text\": \"Apple has announced the launch of its new iPhone in Silicon Valley next month.\",\n",
        "        \"author\": \"Jane Smith\",\n",
        "        \"publication_date\": \"2023-06-01\"\n",
        "    },\n",
        "    {\n",
        "        \"text\": \"The football team won the championship by defeating the defending champions in a thrilling match.\",\n",
        "        \"author\": \"Mike Johnson\",\n",
        "        \"publication_date\": \"2023-07-21\"\n",
        "    },\n",
        "    {\n",
        "        \"text\": \"Scientists have published a new study on climate change, stating that it poses significant risks to the environment.\",\n",
        "        \"author\": \"Emily Clark\",\n",
        "        \"publication_date\": \"2023-08-10\"\n",
        "    },\n",
        "    {\n",
        "        \"text\": \"The stock market saw a significant rise today, driven by the growth of technology companies.\",\n",
        "        \"author\": \"Rachel Lee\",\n",
        "        \"publication_date\": \"2023-09-05\"\n",
        "    }\n",
        "]\n",
        "\n",
        "document_texts = [doc[\"text\"] for doc in documents]"
      ],
      "metadata": {
        "colab": {
          "base_uri": "https://localhost:8080/"
        },
        "id": "Varhy9jwbr0B",
        "outputId": "08eeee11-e60e-4b31-b304-c76d000d7081"
      },
      "execution_count": null,
      "outputs": [
        {
          "output_type": "stream",
          "name": "stderr",
          "text": [
            "[nltk_data] Downloading package stopwords to /root/nltk_data...\n",
            "[nltk_data]   Package stopwords is already up-to-date!\n"
          ]
        }
      ]
    },
    {
      "cell_type": "code",
      "source": [
        "# Apply preprocessing to each document\n",
        "processed_docs = [preprocess(doc) for doc in document_texts]"
      ],
      "metadata": {
        "id": "uro5hj4zcS_G"
      },
      "execution_count": null,
      "outputs": []
    },
    {
      "cell_type": "code",
      "source": [
        "# Create a dictionary representation of the documents.\n",
        "dictionary = Dictionary(processed_docs)"
      ],
      "metadata": {
        "id": "BjvSek4kcTtc"
      },
      "execution_count": null,
      "outputs": []
    },
    {
      "cell_type": "code",
      "source": [
        "# Convert document into the bag-of-words format\n",
        "corpus = [dictionary.doc2bow(doc) for doc in processed_docs]"
      ],
      "metadata": {
        "id": "Q3TQ-ApjcX5U"
      },
      "execution_count": null,
      "outputs": []
    },
    {
      "cell_type": "code",
      "source": [
        "from gensim.models import CoherenceModel, LdaModel\n",
        "\n",
        "def compute_coherence_values(corpus, dictionary, k_values, texts):\n",
        "    coherence_scores = []\n",
        "    print(\"Coherence scores for different topic numbers:\")\n",
        "    for k in k_values:\n",
        "        lda_model = LdaModel(corpus=corpus, id2word=dictionary, num_topics=k, random_state=100, update_every=1, passes=10, alpha='auto', per_word_topics=True)\n",
        "        coherence_model = CoherenceModel(model=lda_model, texts=texts, dictionary=dictionary, coherence='c_v')\n",
        "        coherence_score = coherence_model.get_coherence()\n",
        "        coherence_scores.append((k, coherence_score))\n",
        "        print(f\"Number of Topics = {k}, Coherence Score = {coherence_score:.4f}\")\n",
        "    return coherence_scores"
      ],
      "metadata": {
        "id": "4MMr12IUcadz"
      },
      "execution_count": null,
      "outputs": []
    },
    {
      "cell_type": "code",
      "source": [
        "# Define range for K\n",
        "k_values = range(2, 6)\n",
        "coherence_scores = compute_coherence_values(corpus, dictionary, k_values, processed_docs)"
      ],
      "metadata": {
        "colab": {
          "base_uri": "https://localhost:8080/"
        },
        "id": "k4On-TrOceWf",
        "outputId": "61c37965-8e4f-4c58-d05c-edc5cb540262"
      },
      "execution_count": null,
      "outputs": [
        {
          "output_type": "stream",
          "name": "stdout",
          "text": [
            "Coherence scores for different topic numbers:\n",
            "Number of Topics = 2, Coherence Score = 0.2319\n",
            "Number of Topics = 3, Coherence Score = 0.2750\n",
            "Number of Topics = 4, Coherence Score = 0.3918\n",
            "Number of Topics = 5, Coherence Score = 0.3847\n"
          ]
        }
      ]
    },
    {
      "cell_type": "code",
      "source": [
        "# Choose K with the highest coherence score\n",
        "optimal_k = max(coherence_scores, key=lambda x: x[1])[0]\n",
        "print(f\"\\nOptimal number of topics: {optimal_k}\")"
      ],
      "metadata": {
        "colab": {
          "base_uri": "https://localhost:8080/"
        },
        "id": "-asa6rZ6chTg",
        "outputId": "1f4db745-a852-4a4d-aca2-362b05437a67"
      },
      "execution_count": null,
      "outputs": [
        {
          "output_type": "stream",
          "name": "stdout",
          "text": [
            "\n",
            "Optimal number of topics: 4\n"
          ]
        }
      ]
    },
    {
      "cell_type": "code",
      "source": [
        "# Fit LDA model with optimal K\n",
        "lda_model = LdaModel(corpus=corpus, id2word=dictionary, num_topics=optimal_k, random_state=100, update_every=1, passes=10, alpha='auto', per_word_topics=True)"
      ],
      "metadata": {
        "id": "2goqJpr-ckRB"
      },
      "execution_count": null,
      "outputs": []
    },
    {
      "cell_type": "code",
      "source": [
        "# Display the topics\n",
        "print(\"\\nTopics generated by the LDA model:\")\n",
        "topics = lda_model.print_topics()\n",
        "for i, topic in topics:\n",
        "    print(f\"Topic {i + 1}: {topic}\")"
      ],
      "metadata": {
        "colab": {
          "base_uri": "https://localhost:8080/"
        },
        "id": "ZDL_RwDZcnbk",
        "outputId": "15bfbae0-2ab2-4081-99dc-1ff26e8d963f"
      },
      "execution_count": null,
      "outputs": [
        {
          "output_type": "stream",
          "name": "stdout",
          "text": [
            "\n",
            "Topics generated by the LDA model:\n",
            "Topic 1: 0.082*\"next\" + 0.082*\"new\" + 0.045*\"silicon\" + 0.045*\"month\" + 0.045*\"apple\" + 0.045*\"announced\" + 0.045*\"valley\" + 0.045*\"iphone\" + 0.045*\"launch\" + 0.045*\"session\"\n",
            "Topic 2: 0.061*\"saw\" + 0.061*\"rise\" + 0.061*\"companies\" + 0.061*\"significant\" + 0.061*\"growth\" + 0.061*\"market\" + 0.061*\"stock\" + 0.061*\"today\" + 0.061*\"technology\" + 0.061*\"driven\"\n",
            "Topic 3: 0.024*\"government\" + 0.024*\"parliament\" + 0.024*\"policies\" + 0.024*\"planning\" + 0.024*\"introduce\" + 0.024*\"session\" + 0.024*\"new\" + 0.024*\"next\" + 0.024*\"significant\" + 0.024*\"champions\"\n",
            "Topic 4: 0.042*\"significant\" + 0.042*\"new\" + 0.042*\"study\" + 0.042*\"risks\" + 0.042*\"published\" + 0.042*\"poses\" + 0.042*\"scientists\" + 0.042*\"defending\" + 0.042*\"stating\" + 0.042*\"change\"\n"
          ]
        }
      ]
    },
    {
      "cell_type": "markdown",
      "metadata": {
        "id": "dEUjBE6C70nf"
      },
      "source": [
        "## Question 2 (10 Points)\n",
        "\n",
        "**Generate K topics by using LSA, the number of topics K should be decided by the coherence score, then summarize what are the topics.**\n",
        "\n",
        "You may refer the code here: https://www.datacamp.com/community/tutorials/discovering-hidden-topics-python"
      ]
    },
    {
      "cell_type": "code",
      "source": [
        "!pip install numpy pandas scikit-learn gensim nltk\n",
        "import numpy as np\n",
        "import pandas as pd\n",
        "from sklearn.feature_extraction.text import TfidfVectorizer\n",
        "from sklearn.decomposition import TruncatedSVD\n",
        "from sklearn.pipeline import make_pipeline\n",
        "from sklearn.preprocessing import Normalizer\n",
        "from gensim.models.coherencemodel import CoherenceModel\n",
        "from gensim.corpora import Dictionary\n",
        "import nltk\n",
        "from nltk.corpus import stopwords\n",
        "\n",
        "nltk.download('stopwords')\n",
        "stop_words = set(stopwords.words('english'))\n",
        "\n",
        "documents = [\n",
        "    {\n",
        "        \"text\": \"The government is planning to introduce new policies in the next session of Parliament.\",\n",
        "        \"author\": \"John Doe\",\n",
        "        \"publication_date\": \"2023-05-15\"\n",
        "    },\n",
        "    {\n",
        "        \"text\": \"Apple has announced the launch of its new iPhone in Silicon Valley next month.\",\n",
        "        \"author\": \"Jane Smith\",\n",
        "        \"publication_date\": \"2023-06-01\"\n",
        "    },\n",
        "    {\n",
        "        \"text\": \"The football team won the championship by defeating the defending champions in a thrilling match.\",\n",
        "        \"author\": \"Mike Johnson\",\n",
        "        \"publication_date\": \"2023-07-21\"\n",
        "    },\n",
        "    {\n",
        "        \"text\": \"Scientists have published a new study on climate change, stating that it poses significant risks to the environment.\",\n",
        "        \"author\": \"Emily Clark\",\n",
        "        \"publication_date\": \"2023-08-10\"\n",
        "    },\n",
        "    {\n",
        "        \"text\": \"The stock market saw a significant rise today, driven by the growth of technology companies.\",\n",
        "        \"author\": \"Rachel Lee\",\n",
        "        \"publication_date\": \"2023-09-05\"\n",
        "    }\n",
        "]"
      ],
      "metadata": {
        "colab": {
          "base_uri": "https://localhost:8080/"
        },
        "id": "_og4j1FGgSDR",
        "outputId": "a6adc9fb-9e37-4999-8bc1-f56933bb17cb"
      },
      "execution_count": null,
      "outputs": [
        {
          "output_type": "stream",
          "name": "stderr",
          "text": [
            "/usr/local/lib/python3.10/dist-packages/ipykernel/ipkernel.py:283: DeprecationWarning: `should_run_async` will not call `transform_cell` automatically in the future. Please pass the result to `transformed_cell` argument and any exception that happen during thetransform in `preprocessing_exc_tuple` in IPython 7.17 and above.\n",
            "  and should_run_async(code)\n"
          ]
        },
        {
          "output_type": "stream",
          "name": "stdout",
          "text": [
            "Requirement already satisfied: numpy in /usr/local/lib/python3.10/dist-packages (1.26.4)\n",
            "Requirement already satisfied: pandas in /usr/local/lib/python3.10/dist-packages (2.2.2)\n",
            "Requirement already satisfied: scikit-learn in /usr/local/lib/python3.10/dist-packages (1.5.2)\n",
            "Requirement already satisfied: gensim in /usr/local/lib/python3.10/dist-packages (4.3.3)\n",
            "Requirement already satisfied: nltk in /usr/local/lib/python3.10/dist-packages (3.8.1)\n",
            "Requirement already satisfied: python-dateutil>=2.8.2 in /usr/local/lib/python3.10/dist-packages (from pandas) (2.8.2)\n",
            "Requirement already satisfied: pytz>=2020.1 in /usr/local/lib/python3.10/dist-packages (from pandas) (2024.2)\n",
            "Requirement already satisfied: tzdata>=2022.7 in /usr/local/lib/python3.10/dist-packages (from pandas) (2024.2)\n",
            "Requirement already satisfied: scipy>=1.6.0 in /usr/local/lib/python3.10/dist-packages (from scikit-learn) (1.13.1)\n",
            "Requirement already satisfied: joblib>=1.2.0 in /usr/local/lib/python3.10/dist-packages (from scikit-learn) (1.4.2)\n",
            "Requirement already satisfied: threadpoolctl>=3.1.0 in /usr/local/lib/python3.10/dist-packages (from scikit-learn) (3.5.0)\n",
            "Requirement already satisfied: smart-open>=1.8.1 in /usr/local/lib/python3.10/dist-packages (from gensim) (7.0.5)\n",
            "Requirement already satisfied: click in /usr/local/lib/python3.10/dist-packages (from nltk) (8.1.7)\n",
            "Requirement already satisfied: regex>=2021.8.3 in /usr/local/lib/python3.10/dist-packages (from nltk) (2024.9.11)\n",
            "Requirement already satisfied: tqdm in /usr/local/lib/python3.10/dist-packages (from nltk) (4.66.6)\n",
            "Requirement already satisfied: six>=1.5 in /usr/local/lib/python3.10/dist-packages (from python-dateutil>=2.8.2->pandas) (1.16.0)\n",
            "Requirement already satisfied: wrapt in /usr/local/lib/python3.10/dist-packages (from smart-open>=1.8.1->gensim) (1.16.0)\n"
          ]
        },
        {
          "output_type": "stream",
          "name": "stderr",
          "text": [
            "[nltk_data] Downloading package stopwords to /root/nltk_data...\n",
            "[nltk_data]   Package stopwords is already up-to-date!\n"
          ]
        }
      ]
    },
    {
      "cell_type": "code",
      "source": [
        "# Prepare the text data\n",
        "document_texts = [doc[\"text\"] for doc in documents]"
      ],
      "metadata": {
        "colab": {
          "base_uri": "https://localhost:8080/"
        },
        "id": "pSqaVh-KiK5M",
        "outputId": "d61f6fc4-761f-4567-c966-3be21053a593"
      },
      "execution_count": null,
      "outputs": [
        {
          "output_type": "stream",
          "name": "stderr",
          "text": [
            "/usr/local/lib/python3.10/dist-packages/ipykernel/ipkernel.py:283: DeprecationWarning: `should_run_async` will not call `transform_cell` automatically in the future. Please pass the result to `transformed_cell` argument and any exception that happen during thetransform in `preprocessing_exc_tuple` in IPython 7.17 and above.\n",
            "  and should_run_async(code)\n"
          ]
        }
      ]
    },
    {
      "cell_type": "code",
      "source": [
        "# Vectorize the text data using TF-IDF\n",
        "vectorizer = TfidfVectorizer(stop_words=list(stop_words))\n",
        "tfidf_matrix = vectorizer.fit_transform(document_texts)"
      ],
      "metadata": {
        "colab": {
          "base_uri": "https://localhost:8080/"
        },
        "id": "XbaELGRziLpH",
        "outputId": "3bdab277-4126-4b6c-ecdd-5b4319dd0547"
      },
      "execution_count": null,
      "outputs": [
        {
          "output_type": "stream",
          "name": "stderr",
          "text": [
            "/usr/local/lib/python3.10/dist-packages/ipykernel/ipkernel.py:283: DeprecationWarning: `should_run_async` will not call `transform_cell` automatically in the future. Please pass the result to `transformed_cell` argument and any exception that happen during thetransform in `preprocessing_exc_tuple` in IPython 7.17 and above.\n",
            "  and should_run_async(code)\n"
          ]
        }
      ]
    },
    {
      "cell_type": "code",
      "source": [
        "# Function to compute coherence score for given number of topics (K)\n",
        "def compute_coherence_score(n_topics):\n",
        "    svd_model = TruncatedSVD(n_components=n_topics, random_state=42)\n",
        "    lsa_topic_matrix = svd_model.fit_transform(tfidf_matrix)\n",
        "\n",
        "    # Get the topics from the components\n",
        "    terms = vectorizer.get_feature_names_out()\n",
        "    topic_terms = []\n",
        "    for i, comp in enumerate(svd_model.components_):\n",
        "        terms_comp = zip(terms, comp)\n",
        "        sorted_terms = sorted(terms_comp, key=lambda x: x[1], reverse=True)[:10]\n",
        "        topic_terms.append([term for term, weight in sorted_terms])\n",
        "\n",
        "    # Create a Gensim Dictionary and Corpus\n",
        "    dictionary = Dictionary([text.split() for text in document_texts])\n",
        "    corpus = [dictionary.doc2bow(text.split()) for text in document_texts]\n",
        "\n",
        "    # Create a coherence model\n",
        "    coherence_model = CoherenceModel(topics=topic_terms, texts=[text.split() for text in document_texts], dictionary=dictionary, coherence='c_v')\n",
        "    coherence_score = coherence_model.get_coherence()\n",
        "\n",
        "    return coherence_score, topic_terms"
      ],
      "metadata": {
        "colab": {
          "base_uri": "https://localhost:8080/"
        },
        "id": "ed5yEigUiPJw",
        "outputId": "a848bf3f-d518-4228-91ee-965b6c8d2509"
      },
      "execution_count": null,
      "outputs": [
        {
          "output_type": "stream",
          "name": "stderr",
          "text": [
            "/usr/local/lib/python3.10/dist-packages/ipykernel/ipkernel.py:283: DeprecationWarning: `should_run_async` will not call `transform_cell` automatically in the future. Please pass the result to `transformed_cell` argument and any exception that happen during thetransform in `preprocessing_exc_tuple` in IPython 7.17 and above.\n",
            "  and should_run_async(code)\n"
          ]
        }
      ]
    },
    {
      "cell_type": "code",
      "source": [
        "# Calculate coherence scores for a range of K values\n",
        "coherence_scores = {}\n",
        "topic_summaries = {}\n",
        "for k in range(2, 6):  # Testing K from 2 to 5\n",
        "    coherence_score, topics = compute_coherence_score(k)\n",
        "    coherence_scores[k] = coherence_score\n",
        "    topic_summaries[k] = topics"
      ],
      "metadata": {
        "colab": {
          "base_uri": "https://localhost:8080/"
        },
        "id": "EC7bpThGiSZ0",
        "outputId": "176b3d9c-e985-4665-a3e3-52cfe5d615e4"
      },
      "execution_count": null,
      "outputs": [
        {
          "output_type": "stream",
          "name": "stderr",
          "text": [
            "/usr/local/lib/python3.10/dist-packages/ipykernel/ipkernel.py:283: DeprecationWarning: `should_run_async` will not call `transform_cell` automatically in the future. Please pass the result to `transformed_cell` argument and any exception that happen during thetransform in `preprocessing_exc_tuple` in IPython 7.17 and above.\n",
            "  and should_run_async(code)\n"
          ]
        }
      ]
    },
    {
      "cell_type": "code",
      "source": [
        "# Find the best K based on the highest coherence score\n",
        "best_k = max(coherence_scores, key=coherence_scores.get)\n",
        "best_score = coherence_scores[best_k]"
      ],
      "metadata": {
        "colab": {
          "base_uri": "https://localhost:8080/"
        },
        "id": "nBHUR3Z5i71j",
        "outputId": "cf190bea-bf1a-4680-ee3e-eda950b959b1"
      },
      "execution_count": null,
      "outputs": [
        {
          "output_type": "stream",
          "name": "stderr",
          "text": [
            "/usr/local/lib/python3.10/dist-packages/ipykernel/ipkernel.py:283: DeprecationWarning: `should_run_async` will not call `transform_cell` automatically in the future. Please pass the result to `transformed_cell` argument and any exception that happen during thetransform in `preprocessing_exc_tuple` in IPython 7.17 and above.\n",
            "  and should_run_async(code)\n"
          ]
        }
      ]
    },
    {
      "cell_type": "code",
      "source": [
        "# Print coherence scores for each K\n",
        "print(\"Coherence scores for different topic numbers:\")\n",
        "for k, score in coherence_scores.items():\n",
        "    print(f\"Number of Topics = {k}, Coherence Score = {score:.4f}\")\n",
        "\n",
        "print(f\"\\nBest number of topics (K): {best_k} with coherence score: {best_score:.4f}\")"
      ],
      "metadata": {
        "colab": {
          "base_uri": "https://localhost:8080/"
        },
        "id": "rwkmcPjyjBJg",
        "outputId": "6d3fbcee-e6e9-4659-e77e-9e7d0a6d6463"
      },
      "execution_count": null,
      "outputs": [
        {
          "output_type": "stream",
          "name": "stdout",
          "text": [
            "Coherence scores for different topic numbers:\n",
            "Number of Topics = 2, Coherence Score = 0.8536\n",
            "Number of Topics = 3, Coherence Score = 0.8193\n",
            "Number of Topics = 4, Coherence Score = 0.8551\n",
            "Number of Topics = 5, Coherence Score = 0.8387\n",
            "\n",
            "Best number of topics (K): 4 with coherence score: 0.8551\n"
          ]
        },
        {
          "output_type": "stream",
          "name": "stderr",
          "text": [
            "/usr/local/lib/python3.10/dist-packages/ipykernel/ipkernel.py:283: DeprecationWarning: `should_run_async` will not call `transform_cell` automatically in the future. Please pass the result to `transformed_cell` argument and any exception that happen during thetransform in `preprocessing_exc_tuple` in IPython 7.17 and above.\n",
            "  and should_run_async(code)\n"
          ]
        }
      ]
    },
    {
      "cell_type": "code",
      "source": [
        "# Display the topics for the best K with summary\n",
        "print(\"\\nTopics Summary:\")\n",
        "for i, terms in enumerate(topic_summaries[best_k], start=1):\n",
        "    print(f\"Topic {i}: {' '.join(terms)}\")"
      ],
      "metadata": {
        "colab": {
          "base_uri": "https://localhost:8080/"
        },
        "id": "XYrH_jL7jDoH",
        "outputId": "cf4194d8-e873-46f3-a505-6338e1b2710e"
      },
      "execution_count": null,
      "outputs": [
        {
          "output_type": "stream",
          "name": "stdout",
          "text": [
            "\n",
            "Topics Summary:\n",
            "Topic 1: new next government introduce parliament planning policies session announced apple\n",
            "Topic 2: significant companies driven growth market rise saw stock technology today\n",
            "Topic 3: champions team thrilling championship defeating defending football match climate environment\n",
            "Topic 4: change climate environment poses published risks scientists stating study new\n"
          ]
        },
        {
          "output_type": "stream",
          "name": "stderr",
          "text": [
            "/usr/local/lib/python3.10/dist-packages/ipykernel/ipkernel.py:283: DeprecationWarning: `should_run_async` will not call `transform_cell` automatically in the future. Please pass the result to `transformed_cell` argument and any exception that happen during thetransform in `preprocessing_exc_tuple` in IPython 7.17 and above.\n",
            "  and should_run_async(code)\n"
          ]
        }
      ]
    },
    {
      "cell_type": "markdown",
      "metadata": {
        "id": "7oSK4soH70nf"
      },
      "source": [
        "## Question 3 (10 points):\n",
        "**Generate K topics by using lda2vec, the number of topics K should be decided by the coherence score, then summarize what are the topics.**\n",
        "\n",
        "You may refer the code here: https://nbviewer.org/github/cemoody/lda2vec/blob/master/examples/twenty_newsgroups/lda2vec/lda2vec.ipynb"
      ]
    },
    {
      "cell_type": "code",
      "source": [],
      "metadata": {
        "id": "Fpw3_0fqzkyG"
      },
      "execution_count": null,
      "outputs": []
    },
    {
      "cell_type": "markdown",
      "metadata": {
        "id": "7nZGAOwl70ng"
      },
      "source": [
        "## Question 4 (10 points):\n",
        "**Generate K topics by using BERTopic, the number of topics K should be decided by the coherence score, then summarize what are the topics.**\n",
        "\n",
        "You may refer the code here: https://colab.research.google.com/drive/1FieRA9fLdkQEGDIMYl0I3MCjSUKVF8C-?usp=sharing"
      ]
    },
    {
      "cell_type": "code",
      "source": [
        "!pip install bertopic\n",
        "!pip install pandas numpy nltk umap-learn gensim"
      ],
      "metadata": {
        "colab": {
          "base_uri": "https://localhost:8080/"
        },
        "id": "V_rA1RCkDVkk",
        "outputId": "9d00f8e9-452e-4cbd-bdba-7ed7c955426a"
      },
      "execution_count": 5,
      "outputs": [
        {
          "output_type": "stream",
          "name": "stdout",
          "text": [
            "Requirement already satisfied: bertopic in /usr/local/lib/python3.10/dist-packages (0.16.4)\n",
            "Requirement already satisfied: hdbscan>=0.8.29 in /usr/local/lib/python3.10/dist-packages (from bertopic) (0.8.39)\n",
            "Requirement already satisfied: numpy>=1.20.0 in /usr/local/lib/python3.10/dist-packages (from bertopic) (1.26.4)\n",
            "Requirement already satisfied: pandas>=1.1.5 in /usr/local/lib/python3.10/dist-packages (from bertopic) (2.2.2)\n",
            "Requirement already satisfied: plotly>=4.7.0 in /usr/local/lib/python3.10/dist-packages (from bertopic) (5.24.1)\n",
            "Requirement already satisfied: scikit-learn>=0.22.2.post1 in /usr/local/lib/python3.10/dist-packages (from bertopic) (1.5.2)\n",
            "Requirement already satisfied: sentence-transformers>=0.4.1 in /usr/local/lib/python3.10/dist-packages (from bertopic) (3.2.1)\n",
            "Requirement already satisfied: tqdm>=4.41.1 in /usr/local/lib/python3.10/dist-packages (from bertopic) (4.66.6)\n",
            "Requirement already satisfied: umap-learn>=0.5.0 in /usr/local/lib/python3.10/dist-packages (from bertopic) (0.5.7)\n",
            "Requirement already satisfied: scipy>=1.0 in /usr/local/lib/python3.10/dist-packages (from hdbscan>=0.8.29->bertopic) (1.13.1)\n",
            "Requirement already satisfied: joblib>=1.0 in /usr/local/lib/python3.10/dist-packages (from hdbscan>=0.8.29->bertopic) (1.4.2)\n",
            "Requirement already satisfied: python-dateutil>=2.8.2 in /usr/local/lib/python3.10/dist-packages (from pandas>=1.1.5->bertopic) (2.8.2)\n",
            "Requirement already satisfied: pytz>=2020.1 in /usr/local/lib/python3.10/dist-packages (from pandas>=1.1.5->bertopic) (2024.2)\n",
            "Requirement already satisfied: tzdata>=2022.7 in /usr/local/lib/python3.10/dist-packages (from pandas>=1.1.5->bertopic) (2024.2)\n",
            "Requirement already satisfied: tenacity>=6.2.0 in /usr/local/lib/python3.10/dist-packages (from plotly>=4.7.0->bertopic) (9.0.0)\n",
            "Requirement already satisfied: packaging in /usr/local/lib/python3.10/dist-packages (from plotly>=4.7.0->bertopic) (24.1)\n",
            "Requirement already satisfied: threadpoolctl>=3.1.0 in /usr/local/lib/python3.10/dist-packages (from scikit-learn>=0.22.2.post1->bertopic) (3.5.0)\n",
            "Requirement already satisfied: transformers<5.0.0,>=4.41.0 in /usr/local/lib/python3.10/dist-packages (from sentence-transformers>=0.4.1->bertopic) (4.44.2)\n",
            "Requirement already satisfied: torch>=1.11.0 in /usr/local/lib/python3.10/dist-packages (from sentence-transformers>=0.4.1->bertopic) (2.5.0+cu121)\n",
            "Requirement already satisfied: huggingface-hub>=0.20.0 in /usr/local/lib/python3.10/dist-packages (from sentence-transformers>=0.4.1->bertopic) (0.24.7)\n",
            "Requirement already satisfied: Pillow in /usr/local/lib/python3.10/dist-packages (from sentence-transformers>=0.4.1->bertopic) (10.4.0)\n",
            "Requirement already satisfied: numba>=0.51.2 in /usr/local/lib/python3.10/dist-packages (from umap-learn>=0.5.0->bertopic) (0.60.0)\n",
            "Requirement already satisfied: pynndescent>=0.5 in /usr/local/lib/python3.10/dist-packages (from umap-learn>=0.5.0->bertopic) (0.5.13)\n",
            "Requirement already satisfied: filelock in /usr/local/lib/python3.10/dist-packages (from huggingface-hub>=0.20.0->sentence-transformers>=0.4.1->bertopic) (3.16.1)\n",
            "Requirement already satisfied: fsspec>=2023.5.0 in /usr/local/lib/python3.10/dist-packages (from huggingface-hub>=0.20.0->sentence-transformers>=0.4.1->bertopic) (2024.10.0)\n",
            "Requirement already satisfied: pyyaml>=5.1 in /usr/local/lib/python3.10/dist-packages (from huggingface-hub>=0.20.0->sentence-transformers>=0.4.1->bertopic) (6.0.2)\n",
            "Requirement already satisfied: requests in /usr/local/lib/python3.10/dist-packages (from huggingface-hub>=0.20.0->sentence-transformers>=0.4.1->bertopic) (2.32.3)\n",
            "Requirement already satisfied: typing-extensions>=3.7.4.3 in /usr/local/lib/python3.10/dist-packages (from huggingface-hub>=0.20.0->sentence-transformers>=0.4.1->bertopic) (4.12.2)\n",
            "Requirement already satisfied: llvmlite<0.44,>=0.43.0dev0 in /usr/local/lib/python3.10/dist-packages (from numba>=0.51.2->umap-learn>=0.5.0->bertopic) (0.43.0)\n",
            "Requirement already satisfied: six>=1.5 in /usr/local/lib/python3.10/dist-packages (from python-dateutil>=2.8.2->pandas>=1.1.5->bertopic) (1.16.0)\n",
            "Requirement already satisfied: networkx in /usr/local/lib/python3.10/dist-packages (from torch>=1.11.0->sentence-transformers>=0.4.1->bertopic) (3.4.2)\n",
            "Requirement already satisfied: jinja2 in /usr/local/lib/python3.10/dist-packages (from torch>=1.11.0->sentence-transformers>=0.4.1->bertopic) (3.1.4)\n",
            "Requirement already satisfied: sympy==1.13.1 in /usr/local/lib/python3.10/dist-packages (from torch>=1.11.0->sentence-transformers>=0.4.1->bertopic) (1.13.1)\n",
            "Requirement already satisfied: mpmath<1.4,>=1.1.0 in /usr/local/lib/python3.10/dist-packages (from sympy==1.13.1->torch>=1.11.0->sentence-transformers>=0.4.1->bertopic) (1.3.0)\n",
            "Requirement already satisfied: regex!=2019.12.17 in /usr/local/lib/python3.10/dist-packages (from transformers<5.0.0,>=4.41.0->sentence-transformers>=0.4.1->bertopic) (2024.9.11)\n",
            "Requirement already satisfied: safetensors>=0.4.1 in /usr/local/lib/python3.10/dist-packages (from transformers<5.0.0,>=4.41.0->sentence-transformers>=0.4.1->bertopic) (0.4.5)\n",
            "Requirement already satisfied: tokenizers<0.20,>=0.19 in /usr/local/lib/python3.10/dist-packages (from transformers<5.0.0,>=4.41.0->sentence-transformers>=0.4.1->bertopic) (0.19.1)\n",
            "Requirement already satisfied: MarkupSafe>=2.0 in /usr/local/lib/python3.10/dist-packages (from jinja2->torch>=1.11.0->sentence-transformers>=0.4.1->bertopic) (3.0.2)\n",
            "Requirement already satisfied: charset-normalizer<4,>=2 in /usr/local/lib/python3.10/dist-packages (from requests->huggingface-hub>=0.20.0->sentence-transformers>=0.4.1->bertopic) (3.4.0)\n",
            "Requirement already satisfied: idna<4,>=2.5 in /usr/local/lib/python3.10/dist-packages (from requests->huggingface-hub>=0.20.0->sentence-transformers>=0.4.1->bertopic) (3.10)\n",
            "Requirement already satisfied: urllib3<3,>=1.21.1 in /usr/local/lib/python3.10/dist-packages (from requests->huggingface-hub>=0.20.0->sentence-transformers>=0.4.1->bertopic) (2.2.3)\n",
            "Requirement already satisfied: certifi>=2017.4.17 in /usr/local/lib/python3.10/dist-packages (from requests->huggingface-hub>=0.20.0->sentence-transformers>=0.4.1->bertopic) (2024.8.30)\n",
            "Requirement already satisfied: pandas in /usr/local/lib/python3.10/dist-packages (2.2.2)\n",
            "Requirement already satisfied: numpy in /usr/local/lib/python3.10/dist-packages (1.26.4)\n",
            "Requirement already satisfied: nltk in /usr/local/lib/python3.10/dist-packages (3.8.1)\n",
            "Requirement already satisfied: umap-learn in /usr/local/lib/python3.10/dist-packages (0.5.7)\n",
            "Requirement already satisfied: gensim in /usr/local/lib/python3.10/dist-packages (4.3.3)\n",
            "Requirement already satisfied: python-dateutil>=2.8.2 in /usr/local/lib/python3.10/dist-packages (from pandas) (2.8.2)\n",
            "Requirement already satisfied: pytz>=2020.1 in /usr/local/lib/python3.10/dist-packages (from pandas) (2024.2)\n",
            "Requirement already satisfied: tzdata>=2022.7 in /usr/local/lib/python3.10/dist-packages (from pandas) (2024.2)\n",
            "Requirement already satisfied: click in /usr/local/lib/python3.10/dist-packages (from nltk) (8.1.7)\n",
            "Requirement already satisfied: joblib in /usr/local/lib/python3.10/dist-packages (from nltk) (1.4.2)\n",
            "Requirement already satisfied: regex>=2021.8.3 in /usr/local/lib/python3.10/dist-packages (from nltk) (2024.9.11)\n",
            "Requirement already satisfied: tqdm in /usr/local/lib/python3.10/dist-packages (from nltk) (4.66.6)\n",
            "Requirement already satisfied: scipy>=1.3.1 in /usr/local/lib/python3.10/dist-packages (from umap-learn) (1.13.1)\n",
            "Requirement already satisfied: scikit-learn>=0.22 in /usr/local/lib/python3.10/dist-packages (from umap-learn) (1.5.2)\n",
            "Requirement already satisfied: numba>=0.51.2 in /usr/local/lib/python3.10/dist-packages (from umap-learn) (0.60.0)\n",
            "Requirement already satisfied: pynndescent>=0.5 in /usr/local/lib/python3.10/dist-packages (from umap-learn) (0.5.13)\n",
            "Requirement already satisfied: smart-open>=1.8.1 in /usr/local/lib/python3.10/dist-packages (from gensim) (7.0.5)\n",
            "Requirement already satisfied: llvmlite<0.44,>=0.43.0dev0 in /usr/local/lib/python3.10/dist-packages (from numba>=0.51.2->umap-learn) (0.43.0)\n",
            "Requirement already satisfied: six>=1.5 in /usr/local/lib/python3.10/dist-packages (from python-dateutil>=2.8.2->pandas) (1.16.0)\n",
            "Requirement already satisfied: threadpoolctl>=3.1.0 in /usr/local/lib/python3.10/dist-packages (from scikit-learn>=0.22->umap-learn) (3.5.0)\n",
            "Requirement already satisfied: wrapt in /usr/local/lib/python3.10/dist-packages (from smart-open>=1.8.1->gensim) (1.16.0)\n"
          ]
        }
      ]
    },
    {
      "cell_type": "code",
      "source": [
        "from bertopic import BERTopic\n",
        "from sklearn.feature_extraction.text import CountVectorizer\n",
        "from gensim.models.coherencemodel import CoherenceModel\n",
        "from gensim.corpora import Dictionary\n",
        "from nltk.corpus import stopwords\n",
        "from umap import UMAP\n",
        "import nltk\n",
        "import pandas as pd\n",
        "\n",
        "nltk.download('stopwords')"
      ],
      "metadata": {
        "colab": {
          "base_uri": "https://localhost:8080/"
        },
        "id": "5vikY2QB-Pte",
        "outputId": "aaf0ee47-25a2-40ce-d863-75565910d167"
      },
      "execution_count": 6,
      "outputs": [
        {
          "output_type": "stream",
          "name": "stderr",
          "text": [
            "[nltk_data] Downloading package stopwords to /root/nltk_data...\n",
            "[nltk_data]   Package stopwords is already up-to-date!\n"
          ]
        },
        {
          "output_type": "execute_result",
          "data": {
            "text/plain": [
              "True"
            ]
          },
          "metadata": {},
          "execution_count": 6
        }
      ]
    },
    {
      "cell_type": "code",
      "source": [
        "documents = [\n",
        "    {\n",
        "        \"text\": \"The government is planning to introduce new policies in the next session of Parliament.\",\n",
        "        \"author\": \"John Doe\",\n",
        "        \"publication_date\": \"2023-05-15\"\n",
        "    },\n",
        "    {\n",
        "        \"text\": \"Apple has announced the launch of its new iPhone in Silicon Valley next month.\",\n",
        "        \"author\": \"Jane Smith\",\n",
        "        \"publication_date\": \"2023-06-01\"\n",
        "    },\n",
        "    {\n",
        "        \"text\": \"The football team won the championship by defeating the defending champions in a thrilling match.\",\n",
        "        \"author\": \"Mike Johnson\",\n",
        "        \"publication_date\": \"2023-07-21\"\n",
        "    },\n",
        "    {\n",
        "        \"text\": \"Scientists have published a new study on climate change, stating that it poses significant risks to the environment.\",\n",
        "        \"author\": \"Emily Clark\",\n",
        "        \"publication_date\": \"2023-08-10\"\n",
        "    },\n",
        "    {\n",
        "        \"text\": \"The stock market saw a significant rise today, driven by the growth of technology companies.\",\n",
        "        \"author\": \"Rachel Lee\",\n",
        "        \"publication_date\": \"2023-09-05\"\n",
        "    }\n",
        "]\n",
        "\n",
        "texts = [doc[\"text\"] for doc in documents]"
      ],
      "metadata": {
        "id": "pxbnWUxFDkqE"
      },
      "execution_count": 7,
      "outputs": []
    },
    {
      "cell_type": "code",
      "source": [
        "stop_words = stopwords.words('english')\n",
        "vectorizer = CountVectorizer(stop_words=stop_words)\n",
        "\n",
        "umap_model = UMAP(n_neighbors=2, n_components=2, min_dist=0.0, metric='cosine')\n",
        "\n",
        "topic_model = BERTopic(vectorizer_model=vectorizer, umap_model=umap_model, min_topic_size=2, calculate_probabilities=True, verbose=True)\n",
        "\n",
        "topics, probs = topic_model.fit_transform(texts)"
      ],
      "metadata": {
        "colab": {
          "base_uri": "https://localhost:8080/",
          "height": 188,
          "referenced_widgets": [
            "c0dfc65be65a4c5cbf36dfef2f2c5f9f",
            "13ef2ce1380f4f5b97c16702df6d520a",
            "0ebead5a3027400281fbe8919c11106b",
            "2d9fdce308024b7e97bb619df636a861",
            "13f9e60583f64961b97ca5d136db6523",
            "a0986d7ae7fa413f9b9a0e3d9011d074",
            "a43457b9519d4bbe88ab516b84269ff0",
            "ef5864d810994120bd170446f8eef9cf",
            "24301b4af2ff457d976a5e91700b1a37",
            "08ea9da0dba2458e83dd54c355ae3334",
            "b5bd17237cde4a498b68ee90abc713fb"
          ]
        },
        "id": "UtalPBxEDpk3",
        "outputId": "41d28f05-f5e7-4ba9-d823-c9ba257e15de"
      },
      "execution_count": 8,
      "outputs": [
        {
          "output_type": "stream",
          "name": "stderr",
          "text": [
            "2024-11-03 22:05:59,880 - BERTopic - Embedding - Transforming documents to embeddings.\n"
          ]
        },
        {
          "output_type": "display_data",
          "data": {
            "text/plain": [
              "Batches:   0%|          | 0/1 [00:00<?, ?it/s]"
            ],
            "application/vnd.jupyter.widget-view+json": {
              "version_major": 2,
              "version_minor": 0,
              "model_id": "c0dfc65be65a4c5cbf36dfef2f2c5f9f"
            }
          },
          "metadata": {}
        },
        {
          "output_type": "stream",
          "name": "stderr",
          "text": [
            "2024-11-03 22:06:00,383 - BERTopic - Embedding - Completed ✓\n",
            "2024-11-03 22:06:00,390 - BERTopic - Dimensionality - Fitting the dimensionality reduction algorithm\n",
            "2024-11-03 22:06:00,413 - BERTopic - Dimensionality - Completed ✓\n",
            "2024-11-03 22:06:00,416 - BERTopic - Cluster - Start clustering the reduced embeddings\n",
            "2024-11-03 22:06:00,424 - BERTopic - Cluster - Completed ✓\n",
            "2024-11-03 22:06:00,431 - BERTopic - Representation - Extracting topics from clusters using representation models.\n",
            "2024-11-03 22:06:00,444 - BERTopic - Representation - Completed ✓\n"
          ]
        }
      ]
    },
    {
      "cell_type": "code",
      "source": [
        "topic_info = topic_model.get_topic_info()\n",
        "print(\"\\nTopics Summary:\")\n",
        "if not topic_info.empty:\n",
        "    for idx, row in topic_info.iterrows():\n",
        "        if idx == 0:\n",
        "            continue\n",
        "        print(f\"Topic {row['Topic']}: {row['Name']}\")\n",
        "\n",
        "    topics_words = [topic_model.get_topic(topic) for topic in set(topics) if topic != -1]\n",
        "\n",
        "    print(\"\\nExtracted Topic Words:\")\n",
        "    for idx, topic in enumerate(topics_words):\n",
        "        print(f\"Topic {idx}: {topic}\")\n",
        "\n",
        "    if topics_words and all(len(topic) > 0 for topic in topics_words):\n",
        "        texts_tokens = [text.split() for text in texts]\n",
        "        dictionary = Dictionary(texts_tokens)\n",
        "\n",
        "        coherence_model = CoherenceModel(\n",
        "            topics=[[word for word, _ in topic] for topic in topics_words],\n",
        "            texts=texts_tokens,\n",
        "            dictionary=dictionary,\n",
        "            coherence='c_v'\n",
        "        )\n",
        "        coherence_score = coherence_model.get_coherence()\n",
        "        print(f\"\\nCoherence Score: {coherence_score:.2f}\")\n",
        "    else:\n",
        "        print(\"Insufficient topic words for coherence scoring.\")\n",
        "else:\n",
        "    print(\"No meaningful topics found.\")"
      ],
      "metadata": {
        "colab": {
          "base_uri": "https://localhost:8080/"
        },
        "id": "7tyhGFe3Dqj5",
        "outputId": "3df5fa50-7913-4a4b-8bea-04cf67e0fc40"
      },
      "execution_count": 9,
      "outputs": [
        {
          "output_type": "stream",
          "name": "stdout",
          "text": [
            "\n",
            "Topics Summary:\n",
            "\n",
            "Extracted Topic Words:\n",
            "Insufficient topic words for coherence scoring.\n"
          ]
        }
      ]
    },
    {
      "cell_type": "markdown",
      "source": [
        "## **Question 3 (Alternative) - (10 points)**\n",
        "\n",
        "If you are unable to do the topic modeling using lda2vec, do the alternate question.\n",
        "\n",
        "Provide atleast 3 visualization for the topics generated by the BERTopic or LDA model. Explain each of the visualization in detail."
      ],
      "metadata": {
        "id": "Wslk2SYHML8t"
      }
    },
    {
      "cell_type": "code",
      "source": [
        "#Visualization-1: Intertopic Distance Map\n",
        "import pyLDAvis\n",
        "import pyLDAvis.gensim_models\n",
        "\n",
        "vis_data = pyLDAvis.gensim_models.prepare(lda_model, corpus, dictionary)\n",
        "\n",
        "pyLDAvis.display(vis_data)"
      ],
      "metadata": {
        "colab": {
          "base_uri": "https://localhost:8080/",
          "height": 862
        },
        "id": "nfIIYlUduloi",
        "outputId": "7e598be5-e8e4-4991-a5f1-17598a9b3d49"
      },
      "execution_count": null,
      "outputs": [
        {
          "output_type": "execute_result",
          "data": {
            "text/plain": [
              "<IPython.core.display.HTML object>"
            ],
            "text/html": [
              "\n",
              "<link rel=\"stylesheet\" type=\"text/css\" href=\"https://cdn.jsdelivr.net/gh/bmabey/pyLDAvis@3.4.0/pyLDAvis/js/ldavis.v1.0.0.css\">\n",
              "\n",
              "\n",
              "<div id=\"ldavis_el6641375840415060965842807311\" style=\"background-color:white;\"></div>\n",
              "<script type=\"text/javascript\">\n",
              "\n",
              "var ldavis_el6641375840415060965842807311_data = {\"mdsDat\": {\"x\": [0.08284125709645644, -0.12430446842979062, 0.04306662669272689, -0.0016034153593927393], \"y\": [-0.07879817954623508, -0.017757861441304795, 0.10018298522197956, -0.003626944234439727], \"topics\": [1, 2, 3, 4], \"cluster\": [1, 1, 1, 1], \"Freq\": [39.81598822058617, 35.51617659182416, 22.21339377334105, 2.454441414248618]}, \"tinfo\": {\"Term\": [\"next\", \"today\", \"saw\", \"stock\", \"driven\", \"growth\", \"rise\", \"market\", \"companies\", \"technology\", \"significant\", \"government\", \"parliament\", \"policies\", \"planning\", \"introduce\", \"session\", \"launch\", \"announced\", \"iphone\", \"month\", \"valley\", \"apple\", \"silicon\", \"new\", \"champions\", \"team\", \"football\", \"match\", \"championship\", \"study\", \"published\", \"risks\", \"poses\", \"scientists\", \"stating\", \"change\", \"climate\", \"environment\", \"defending\", \"championship\", \"thrilling\", \"defeating\", \"match\", \"team\", \"champions\", \"football\", \"significant\", \"new\", \"driven\", \"companies\", \"market\", \"growth\", \"today\", \"stock\", \"saw\", \"technology\", \"rise\", \"government\", \"parliament\", \"policies\", \"next\", \"valley\", \"session\", \"planning\", \"launch\", \"introduce\", \"iphone\", \"apple\", \"next\", \"silicon\", \"month\", \"announced\", \"apple\", \"iphone\", \"valley\", \"launch\", \"session\", \"introduce\", \"planning\", \"policies\", \"parliament\", \"government\", \"new\", \"technology\", \"driven\", \"stock\", \"rise\", \"growth\", \"market\", \"today\", \"companies\", \"saw\", \"football\", \"champions\", \"match\", \"team\", \"defeating\", \"championship\", \"significant\", \"thrilling\", \"defending\", \"climate\", \"stating\", \"published\", \"change\", \"saw\", \"rise\", \"today\", \"companies\", \"growth\", \"stock\", \"market\", \"technology\", \"driven\", \"significant\", \"government\", \"parliament\", \"policies\", \"planning\", \"introduce\", \"session\", \"launch\", \"announced\", \"iphone\", \"apple\", \"valley\", \"silicon\", \"month\", \"team\", \"football\", \"thrilling\", \"champions\", \"defeating\", \"match\", \"championship\", \"new\", \"next\", \"defending\", \"environment\", \"today\", \"driven\", \"stock\", \"technology\", \"saw\", \"market\", \"growth\", \"companies\", \"rise\", \"government\", \"parliament\", \"policies\", \"planning\", \"introduce\", \"session\", \"launch\", \"iphone\", \"announced\", \"valley\", \"month\", \"apple\", \"silicon\", \"champions\", \"team\", \"football\", \"match\", \"defeating\", \"championship\", \"thrilling\", \"defending\", \"next\", \"new\", \"significant\", \"climate\", \"environment\", \"scientists\", \"change\", \"poses\", \"study\"], \"Freq\": [1.0, 0.0, 0.0, 0.0, 0.0, 0.0, 0.0, 0.0, 0.0, 0.0, 1.0, 1.0, 1.0, 1.0, 1.0, 1.0, 1.0, 1.0, 1.0, 1.0, 1.0, 1.0, 1.0, 1.0, 2.0, 1.0, 1.0, 1.0, 1.0, 1.0, 0.7761183796305113, 0.7761158551200203, 0.7761159233500337, 0.7761142858297151, 0.7761129212294496, 0.7761111472491047, 0.7761088956586667, 0.776105688848043, 0.7761060982281226, 0.776081808343398, 0.7760774416225487, 0.776074507731978, 0.776071983221487, 0.7760675482706243, 0.776062703939682, 0.7760597700491114, 0.7760603158892175, 0.7755207529442688, 0.7749552625942769, 0.15527191113398436, 0.15527073416625545, 0.1552704271311957, 0.15526972777355968, 0.1552680049657246, 0.15526815848325445, 0.15526798790822127, 0.15526669153796913, 0.155266469790426, 0.15528260618856463, 0.15527934820543093, 0.15528195800343855, 0.1552844825139296, 0.15527907528537785, 0.1552787682503181, 0.1552781541801987, 0.1552781541801987, 0.1552771136724963, 0.1552757831872375, 0.15527569789972093, 1.3364535653791394, 0.7428431804974182, 0.7428414155077758, 0.7428357553685783, 0.7428371551879497, 0.7428318602190229, 0.74283210366587, 0.742824130781624, 0.7420211213561051, 0.7419661632303477, 0.7419606856762855, 0.7418381710504275, 0.741730932714232, 0.7412739221203088, 1.3375836456438837, 0.1486210593349445, 0.14861929434530222, 0.1486169663848258, 0.14861596216658104, 0.14861523182603942, 0.14861518617975558, 0.1486132690358338, 0.14861410588437107, 0.14861138232276794, 0.1486330338767416, 0.148631055871108, 0.14863014294543098, 0.14862884963405518, 0.1486279214929502, 0.14862492405364394, 0.14864076331414047, 0.14862480233022032, 0.14862305255600602, 0.14862168316749047, 0.14861892917503142, 0.14861882266703574, 0.1486185335739047, 0.622938338237695, 0.6229377291878255, 0.6229320574109154, 0.6229355975132821, 0.6229339987573745, 0.622932628395168, 0.6229331613138039, 0.6229308393111763, 0.6229243300906957, 0.6234530615086881, 0.1246409614144044, 0.12463746889405876, 0.12463688839340185, 0.12463698355744397, 0.12463476623526269, 0.12463455687437003, 0.1246345283251574, 0.12463437606269001, 0.12463301521688777, 0.12463193986321186, 0.12463169243670237, 0.1246288375154389, 0.12462811426871884, 0.12464001929038745, 0.12463879167424416, 0.12463897248592418, 0.12463786858303565, 0.1246380018126946, 0.1246369169426145, 0.12463625079431968, 0.12466025116574116, 0.12464559590325541, 0.1246354323835575, 0.12463274875756984, 0.026847026136714015, 0.02684693150141801, 0.026846203861142053, 0.02684609660780658, 0.02684600617852373, 0.026846029311596086, 0.026845957809372437, 0.026845627637339706, 0.026845575062175258, 0.0271279163132989, 0.027046687684227196, 0.027026995130631663, 0.02700550240340544, 0.027005168025359554, 0.02699499788554879, 0.026850081805271715, 0.02684942356421283, 0.026849240602640552, 0.026849106010219566, 0.026848824207338126, 0.026848716954002653, 0.02684832789778574, 0.026852456099698174, 0.026851871463869515, 0.0268518062706656, 0.026851486613665758, 0.02685088094777132, 0.026850847299666074, 0.026850805239534516, 0.02685060965992277, 0.0269802894575429, 0.026999508834658403, 0.026855738892966288, 0.02684852978641722, 0.026848130215167416, 0.026847970386667495, 0.026847791631108373, 0.026847699098818945, 0.026847680171759744], \"Total\": [1.0, 0.0, 0.0, 0.0, 0.0, 0.0, 0.0, 0.0, 0.0, 0.0, 1.0, 1.0, 1.0, 1.0, 1.0, 1.0, 1.0, 1.0, 1.0, 1.0, 1.0, 1.0, 1.0, 1.0, 2.0, 1.0, 1.0, 1.0, 1.0, 1.0, 1.0762077493394753, 1.0762079232528317, 1.076208221607334, 1.0762069479465053, 1.076205611133147, 1.0762071635213268, 1.0762058093974936, 1.076203092979461, 1.0762037914314062, 1.0761909029428844, 1.0761894637701783, 1.076189087787657, 1.076188787474903, 1.0761860947723356, 1.076183444327994, 1.0761811506029533, 1.0761839477108688, 1.5744703166600635, 2.26419866823856, 0.9536624670714003, 0.9536660652012483, 0.9536648039363513, 0.9536649161663462, 0.9536603575491878, 0.9536639571243903, 0.9536637146472079, 0.9536646867918965, 0.9536657362070078, 1.0483254060365768, 1.048694437497949, 1.0487840125778995, 1.6433639332538674, 1.04959197739817, 1.0489294443663422, 1.0488813258173335, 1.0495868950922518, 1.0488832111634663, 1.0495900821873612, 1.0495935099048852, 1.6433639332538674, 1.0495958732353305, 1.0495937277909908, 1.0495904985227407, 1.0495935099048852, 1.0495900821873612, 1.04959197739817, 1.0495868950922518, 1.0489294443663422, 1.0488832111634663, 1.0488813258173335, 1.0487840125778995, 1.048694437497949, 1.0483254060365768, 2.26419866823856, 0.9536646867918965, 0.9536624670714003, 0.9536639571243903, 0.9536657362070078, 0.9536649161663462, 0.9536648039363513, 0.9536603575491878, 0.9536660652012483, 0.9536637146472079, 1.0761839477108688, 1.0761811506029533, 1.0761860947723356, 1.076183444327994, 1.076188787474903, 1.0761894637701783, 1.5744703166600635, 1.076189087787657, 1.0761909029428844, 1.076203092979461, 1.0762071635213268, 1.0762079232528317, 1.0762058093974936, 0.9536637146472079, 0.9536657362070078, 0.9536603575491878, 0.9536660652012483, 0.9536649161663462, 0.9536639571243903, 0.9536648039363513, 0.9536646867918965, 0.9536624670714003, 1.5744703166600635, 1.0483254060365768, 1.048694437497949, 1.0487840125778995, 1.0488813258173335, 1.0488832111634663, 1.0489294443663422, 1.0495868950922518, 1.0495904985227407, 1.0495900821873612, 1.0495935099048852, 1.04959197739817, 1.0495958732353305, 1.0495937277909908, 1.076183444327994, 1.0761839477108688, 1.076189087787657, 1.0761811506029533, 1.076188787474903, 1.0761860947723356, 1.0761894637701783, 2.26419866823856, 1.6433639332538674, 1.0761909029428844, 1.0762037914314062, 0.9536603575491878, 0.9536624670714003, 0.9536639571243903, 0.9536646867918965, 0.9536637146472079, 0.9536648039363513, 0.9536649161663462, 0.9536660652012483, 0.9536657362070078, 1.0483254060365768, 1.048694437497949, 1.0487840125778995, 1.0488813258173335, 1.0488832111634663, 1.0489294443663422, 1.0495868950922518, 1.0495900821873612, 1.0495904985227407, 1.04959197739817, 1.0495937277909908, 1.0495935099048852, 1.0495958732353305, 1.0761811506029533, 1.076183444327994, 1.0761839477108688, 1.0761860947723356, 1.076188787474903, 1.0761894637701783, 1.076189087787657, 1.0761909029428844, 1.6433639332538674, 2.26419866823856, 1.5744703166600635, 1.076203092979461, 1.0762037914314062, 1.076205611133147, 1.0762058093974936, 1.0762069479465053, 1.0762077493394753], \"Category\": [\"Default\", \"Default\", \"Default\", \"Default\", \"Default\", \"Default\", \"Default\", \"Default\", \"Default\", \"Default\", \"Default\", \"Default\", \"Default\", \"Default\", \"Default\", \"Default\", \"Default\", \"Default\", \"Default\", \"Default\", \"Default\", \"Default\", \"Default\", \"Default\", \"Default\", \"Default\", \"Default\", \"Default\", \"Default\", \"Default\", \"Topic1\", \"Topic1\", \"Topic1\", \"Topic1\", \"Topic1\", \"Topic1\", \"Topic1\", \"Topic1\", \"Topic1\", \"Topic1\", \"Topic1\", \"Topic1\", \"Topic1\", \"Topic1\", \"Topic1\", \"Topic1\", \"Topic1\", \"Topic1\", \"Topic1\", \"Topic1\", \"Topic1\", \"Topic1\", \"Topic1\", \"Topic1\", \"Topic1\", \"Topic1\", \"Topic1\", \"Topic1\", \"Topic1\", \"Topic1\", \"Topic1\", \"Topic1\", \"Topic1\", \"Topic1\", \"Topic1\", \"Topic1\", \"Topic1\", \"Topic1\", \"Topic1\", \"Topic2\", \"Topic2\", \"Topic2\", \"Topic2\", \"Topic2\", \"Topic2\", \"Topic2\", \"Topic2\", \"Topic2\", \"Topic2\", \"Topic2\", \"Topic2\", \"Topic2\", \"Topic2\", \"Topic2\", \"Topic2\", \"Topic2\", \"Topic2\", \"Topic2\", \"Topic2\", \"Topic2\", \"Topic2\", \"Topic2\", \"Topic2\", \"Topic2\", \"Topic2\", \"Topic2\", \"Topic2\", \"Topic2\", \"Topic2\", \"Topic2\", \"Topic2\", \"Topic2\", \"Topic2\", \"Topic2\", \"Topic2\", \"Topic2\", \"Topic3\", \"Topic3\", \"Topic3\", \"Topic3\", \"Topic3\", \"Topic3\", \"Topic3\", \"Topic3\", \"Topic3\", \"Topic3\", \"Topic3\", \"Topic3\", \"Topic3\", \"Topic3\", \"Topic3\", \"Topic3\", \"Topic3\", \"Topic3\", \"Topic3\", \"Topic3\", \"Topic3\", \"Topic3\", \"Topic3\", \"Topic3\", \"Topic3\", \"Topic3\", \"Topic3\", \"Topic3\", \"Topic3\", \"Topic3\", \"Topic3\", \"Topic3\", \"Topic3\", \"Topic3\", \"Topic4\", \"Topic4\", \"Topic4\", \"Topic4\", \"Topic4\", \"Topic4\", \"Topic4\", \"Topic4\", \"Topic4\", \"Topic4\", \"Topic4\", \"Topic4\", \"Topic4\", \"Topic4\", \"Topic4\", \"Topic4\", \"Topic4\", \"Topic4\", \"Topic4\", \"Topic4\", \"Topic4\", \"Topic4\", \"Topic4\", \"Topic4\", \"Topic4\", \"Topic4\", \"Topic4\", \"Topic4\", \"Topic4\", \"Topic4\", \"Topic4\", \"Topic4\", \"Topic4\", \"Topic4\", \"Topic4\", \"Topic4\", \"Topic4\", \"Topic4\", \"Topic4\"], \"logprob\": [30.0, 29.0, 28.0, 27.0, 26.0, 25.0, 24.0, 23.0, 22.0, 21.0, 20.0, 19.0, 18.0, 17.0, 16.0, 15.0, 14.0, 13.0, 12.0, 11.0, 10.0, 9.0, 8.0, 7.0, 6.0, 5.0, 4.0, 3.0, 2.0, 1.0, -3.1612, -3.1612, -3.1612, -3.1612, -3.1612, -3.1612, -3.1612, -3.1612, -3.1612, -3.1612, -3.1612, -3.1612, -3.1612, -3.1613, -3.1613, -3.1613, -3.1613, -3.162, -3.1627, -4.7703, -4.7703, -4.7703, -4.7703, -4.7703, -4.7703, -4.7703, -4.7704, -4.7704, -4.7702, -4.7703, -4.7703, -4.7702, -4.7703, -4.7703, -4.7703, -4.7703, -4.7703, -4.7703, -4.7703, -2.5034, -3.0907, -3.0907, -3.0907, -3.0907, -3.0907, -3.0907, -3.0908, -3.0918, -3.0919, -3.0919, -3.0921, -3.0922, -3.0928, -2.5026, -4.6998, -4.6998, -4.6998, -4.6998, -4.6999, -4.6999, -4.6999, -4.6999, -4.6999, -4.6997, -4.6997, -4.6998, -4.6998, -4.6998, -4.6998, -4.6997, -4.6998, -4.6998, -4.6998, -4.6998, -4.6998, -4.6998, -2.7975, -2.7975, -2.7975, -2.7975, -2.7975, -2.7975, -2.7975, -2.7975, -2.7975, -2.7966, -4.4065, -4.4065, -4.4065, -4.4065, -4.4065, -4.4065, -4.4065, -4.4065, -4.4065, -4.4066, -4.4066, -4.4066, -4.4066, -4.4065, -4.4065, -4.4065, -4.4065, -4.4065, -4.4065, -4.4065, -4.4063, -4.4064, -4.4065, -4.4066, -3.739, -3.739, -3.739, -3.739, -3.739, -3.739, -3.739, -3.739, -3.739, -3.7286, -3.7316, -3.7323, -3.7331, -3.7331, -3.7335, -3.7389, -3.7389, -3.7389, -3.7389, -3.7389, -3.7389, -3.7389, -3.7388, -3.7388, -3.7388, -3.7388, -3.7388, -3.7388, -3.7388, -3.7388, -3.734, -3.7333, -3.7386, -3.7389, -3.7389, -3.7389, -3.7389, -3.7389, -3.7389], \"loglift\": [30.0, 29.0, 28.0, 27.0, 26.0, 25.0, 24.0, 23.0, 22.0, 21.0, 20.0, 19.0, 18.0, 17.0, 16.0, 15.0, 14.0, 13.0, 12.0, 11.0, 10.0, 9.0, 8.0, 7.0, 6.0, 5.0, 4.0, 3.0, 2.0, 1.0, 0.594, 0.594, 0.594, 0.594, 0.594, 0.594, 0.594, 0.594, 0.594, 0.594, 0.594, 0.594, 0.594, 0.594, 0.594, 0.594, 0.594, 0.2128, -0.1513, -0.8942, -0.8942, -0.8942, -0.8942, -0.8943, -0.8943, -0.8943, -0.8943, -0.8943, -0.9888, -0.9892, -0.9892, -1.4383, -0.99, -0.9894, -0.9894, -0.99, -0.9894, -0.9901, -0.9901, 0.8285, 0.6895, 0.6895, 0.6895, 0.6895, 0.6895, 0.6895, 0.6895, 0.689, 0.689, 0.689, 0.6889, 0.6889, 0.6886, 0.5088, -0.8237, -0.8237, -0.8238, -0.8238, -0.8238, -0.8238, -0.8238, -0.8238, -0.8238, -0.9445, -0.9445, -0.9445, -0.9445, -0.9446, -0.9446, -1.325, -0.9446, -0.9446, -0.9446, -0.9446, -0.9446, -0.9446, 1.0786, 1.0786, 1.0786, 1.0786, 1.0786, 1.0786, 1.0786, 1.0786, 1.0786, 0.5781, -0.625, -0.6254, -0.6255, -0.6256, -0.6256, -0.6257, -0.6263, -0.6263, -0.6263, -0.6263, -0.6263, -0.6263, -0.6263, -0.6513, -0.6513, -0.6513, -0.6513, -0.6513, -0.6513, -0.6513, -1.3949, -1.0746, -0.6513, -0.6513, 0.1371, 0.1371, 0.1371, 0.1371, 0.1371, 0.1371, 0.1371, 0.1371, 0.1371, 0.0529, 0.0495, 0.0487, 0.0478, 0.0478, 0.0474, 0.0414, 0.0414, 0.0414, 0.0413, 0.0413, 0.0413, 0.0413, 0.0165, 0.0164, 0.0164, 0.0164, 0.0164, 0.0164, 0.0164, 0.0164, -0.4021, -0.7219, -0.3639, 0.0163, 0.0163, 0.0163, 0.0163, 0.0163, 0.0163]}, \"token.table\": {\"Topic\": [2, 2, 1, 1, 1, 1, 3, 1, 1, 3, 1, 1, 2, 3, 2, 2, 2, 3, 1, 2, 1, 2, 2, 2, 2, 2, 1, 1, 3, 1, 3, 1, 2, 1, 3, 2, 1, 3, 1, 1, 3, 1, 3, 2], \"Freq\": [0.9527525272070037, 0.9527497936707141, 0.9292115917842724, 0.9292044139669735, 0.9291903010260121, 0.9291926463726347, 1.0485850723743368, 0.9292049978947772, 0.9292031713569242, 1.0485890286433286, 0.9291920433303331, 0.9292091766719637, 0.953902284769305, 1.0485863357749565, 0.9533949913172479, 0.9527529051303394, 0.9527557981867777, 1.048586459175588, 0.9292073228390368, 0.9527495958885278, 0.4416573572044157, 0.4416573572044157, 0.6085079389688174, 0.9535666102948656, 0.9533967050283376, 0.9534851675913814, 0.9291893180099657, 0.9291884759382799, 1.0485854341137142, 0.9291882183416924, 1.0485876568869283, 0.9291904722064128, 0.9533529689445409, 0.6351342349351545, 0.6351342349351545, 0.9527476484044725, 0.9291891318842567, 1.0485873902745868, 0.9291886260935698, 0.9292096113078885, 1.0485865879798635, 0.9292047385982324, 1.0485913481503, 0.9527511847783905], \"Term\": [\"announced\", \"apple\", \"champions\", \"championship\", \"change\", \"climate\", \"companies\", \"defeating\", \"defending\", \"driven\", \"environment\", \"football\", \"government\", \"growth\", \"introduce\", \"iphone\", \"launch\", \"market\", \"match\", \"month\", \"new\", \"new\", \"next\", \"parliament\", \"planning\", \"policies\", \"poses\", \"published\", \"rise\", \"risks\", \"saw\", \"scientists\", \"session\", \"significant\", \"significant\", \"silicon\", \"stating\", \"stock\", \"study\", \"team\", \"technology\", \"thrilling\", \"today\", \"valley\"]}, \"R\": 30, \"lambda.step\": 0.01, \"plot.opts\": {\"xlab\": \"PC1\", \"ylab\": \"PC2\"}, \"topic.order\": [4, 1, 2, 3]};\n",
              "\n",
              "function LDAvis_load_lib(url, callback){\n",
              "  var s = document.createElement('script');\n",
              "  s.src = url;\n",
              "  s.async = true;\n",
              "  s.onreadystatechange = s.onload = callback;\n",
              "  s.onerror = function(){console.warn(\"failed to load library \" + url);};\n",
              "  document.getElementsByTagName(\"head\")[0].appendChild(s);\n",
              "}\n",
              "\n",
              "if(typeof(LDAvis) !== \"undefined\"){\n",
              "   // already loaded: just create the visualization\n",
              "   !function(LDAvis){\n",
              "       new LDAvis(\"#\" + \"ldavis_el6641375840415060965842807311\", ldavis_el6641375840415060965842807311_data);\n",
              "   }(LDAvis);\n",
              "}else if(typeof define === \"function\" && define.amd){\n",
              "   // require.js is available: use it to load d3/LDAvis\n",
              "   require.config({paths: {d3: \"https://d3js.org/d3.v5\"}});\n",
              "   require([\"d3\"], function(d3){\n",
              "      window.d3 = d3;\n",
              "      LDAvis_load_lib(\"https://cdn.jsdelivr.net/gh/bmabey/pyLDAvis@3.4.0/pyLDAvis/js/ldavis.v3.0.0.js\", function(){\n",
              "        new LDAvis(\"#\" + \"ldavis_el6641375840415060965842807311\", ldavis_el6641375840415060965842807311_data);\n",
              "      });\n",
              "    });\n",
              "}else{\n",
              "    // require.js not available: dynamically load d3 & LDAvis\n",
              "    LDAvis_load_lib(\"https://d3js.org/d3.v5.js\", function(){\n",
              "         LDAvis_load_lib(\"https://cdn.jsdelivr.net/gh/bmabey/pyLDAvis@3.4.0/pyLDAvis/js/ldavis.v3.0.0.js\", function(){\n",
              "                 new LDAvis(\"#\" + \"ldavis_el6641375840415060965842807311\", ldavis_el6641375840415060965842807311_data);\n",
              "            })\n",
              "         });\n",
              "}\n",
              "</script>"
            ]
          },
          "metadata": {},
          "execution_count": 37
        }
      ]
    },
    {
      "cell_type": "code",
      "source": [
        "#Visualization-2: Topic Word Scores\n",
        "import matplotlib.pyplot as plt\n",
        "import numpy as np\n",
        "\n",
        "topics = lda_model.show_topics(formatted=False)\n",
        "topic_words = {i: [word[0] for word in topic[1]] for i, topic in enumerate(topics)}\n",
        "\n",
        "topic_scores = {}\n",
        "for i in range(len(topics)):\n",
        "    topic_scores[i] = [lda_model.get_topic_terms(i, topn=10)[j][1] for j in range(len(topic_words[i]))]\n",
        "\n",
        "max_score = max([max(topic_scores[i]) for i in range(len(topics))])\n",
        "x_limits = (0, max_score * 1.1)\n",
        "\n",
        "y_ticks = np.arange(len(topic_words[0]))\n",
        "\n",
        "plt.figure(figsize=(12, 8))\n",
        "colors = ['#8B0000', '#006400', '#00008B', '#FFD700']\n",
        "for i, words in topic_words.items():\n",
        "    plt.subplot(2, 2, i + 1)\n",
        "    plt.barh(y_ticks, topic_scores[i], color=colors[i])\n",
        "    plt.yticks(y_ticks, words)\n",
        "    plt.title(f'Topic {i + 1}')\n",
        "    plt.xlabel('Word Scores')\n",
        "    plt.xlim(x_limits)\n",
        "\n",
        "plt.tight_layout()\n",
        "plt.show()"
      ],
      "metadata": {
        "colab": {
          "base_uri": "https://localhost:8080/",
          "height": 807
        },
        "id": "X4NeuO8TwGuK",
        "outputId": "02063d2b-b3c9-48df-c3cc-24bd9c4b048f"
      },
      "execution_count": null,
      "outputs": [
        {
          "output_type": "display_data",
          "data": {
            "text/plain": [
              "<Figure size 1200x800 with 4 Axes>"
            ],
            "image/png": "[encoded data removed]"
          },
          "metadata": {}
        }
      ]
    },
    {
      "cell_type": "code",
      "source": [
        "#Visualization-3: Topic Similarity Matrix\n",
        "import numpy as np\n",
        "import seaborn as sns\n",
        "import matplotlib.pyplot as plt\n",
        "from sklearn.metrics.pairwise import cosine_similarity\n",
        "\n",
        "topic_terms = lda_model.get_topics()\n",
        "\n",
        "similarity_matrix = cosine_similarity(topic_terms)\n",
        "\n",
        "plt.figure(figsize=(10, 10))\n",
        "sns.heatmap(similarity_matrix, annot=True, fmt=\".2f\", cmap=\"YlGnBu\", square=True,\n",
        "            xticklabels=[f'Topic {i + 1}' for i in range(num_topics)],\n",
        "            yticklabels=[f'Topic {i + 1}' for i in range(num_topics)],\n",
        "            cbar_kws={\"shrink\": .8})\n",
        "plt.title('Topic Similarity Matrix', fontsize=18)\n",
        "plt.xlabel('Topics', fontsize=14)\n",
        "plt.ylabel('Topics', fontsize=14)\n",
        "plt.xticks(rotation=45)\n",
        "plt.yticks(rotation=0)\n",
        "plt.tight_layout()\n",
        "plt.show()"
      ],
      "metadata": {
        "colab": {
          "base_uri": "https://localhost:8080/",
          "height": 862
        },
        "id": "AbJHt5iuyPMT",
        "outputId": "85683915-7c7a-44c0-f55a-1b95f7eac082"
      },
      "execution_count": null,
      "outputs": [
        {
          "output_type": "display_data",
          "data": {
            "text/plain": [
              "<Figure size 1000x1000 with 2 Axes>"
            ],
            "image/png": "[encoded data removed]"
          },
          "metadata": {}
        }
      ]
    },
    {
      "cell_type": "markdown",
      "source": [
        "**Visualization-1: Intertopic Distance Map** -\n",
        "The intertopic distance map is a tool for visualizing the relationships between different topicsby the LDA model which helps in understanding how topics are distributed across the corpus.\n",
        "Each circle on a map represents a topic and the position indicates the distance between the topics, the size of the circle reflects the frequency of the topic within the corpus\n",
        "As we can see we have four topics and topic 1 is the largest.\n",
        "\n",
        "**Visualization-2: Topic Word Scores** -\n",
        "This visualization provides a clear representation of the most significant words associated with each topic and their corresponding importance and it also helps in understanding the makeup of each topic.Each subplot corresponds to a different topic, with the horizontal bars indicating the importance of the top words associated with that topic. The y-axis contains the top words for each topic, while the x-axis represents the word scores, which indicate the strength of association between the word and the topic.\n",
        "The use of distinct colors for each topic enhances visual differentiation and makes it easier to compare the word scores across topics.By examining the word scores, we can quickly identify which words are most representative of each topic and assess the coherence and relevance of the topics based on these key terms. This can help in evaluating the quality of the LDA model.\n",
        "\n",
        "**Visualization-3: Topic Similarity Matrix** - The topic similarity matrix visualizes the degree of similarity between topics, allowing users to assess how closely related or distinct the identified topics are. The matrix is a square grid where each cell represents the similarity score between two topics. The scores are calculated using cosine similarity based on the topic-term distributions. A value of 1.0 indicates perfect similarity, while values closer to 0 suggest less similarity. The heatmap utilizes color gradients to represent similarity levels, with darker colors typically indicating higher similarity. We can identify which topics are closely related or might be overlapping based on the similarity scores. This can guide decisions about whether to merge topics, further refine the model, or understand thematic relationships within the data.\n"
      ],
      "metadata": {
        "id": "alUaVPbAUbS0"
      }
    },
    {
      "cell_type": "markdown",
      "source": [
        "## Extra Question (5 Points)\n",
        "\n",
        "**Compare the results generated by the four topic modeling algorithms, which one is better? You should explain the reasons in details.**\n",
        "\n",
        "**This question will compensate for any points deducted in this exercise. Maximum marks for the exercise is 40 points.**"
      ],
      "metadata": {
        "id": "d89ODUx3jjJV"
      }
    },
    {
      "cell_type": "code",
      "source": [
        "# Write your code here\n",
        "\"\"\"When comparing the performance of the three topic modeling algorithms—LDA (Latent Dirichlet Allocation), LSA (Latent Semantic Analysis), and BERTopic—LSA emerges as the most\n",
        "effective method for extracting meaningful topics from the dataset. The LDA model produced four topics with a coherence score of 0.3918. While this indicates some level of topic\n",
        "coherence, the topics generated were somewhat overlapping and less distinct. For instance, the topics included themes related to government policies, market trends, and climate\n",
        "change, but they did not clearly differentiate the nuances within these themes. The keywords for LDA topics also included frequent words such as \"new,\" \"significant,\" and \"government,\"\n",
        "which may indicate less specificity in capturing the essence of the underlying documents. In contrast, the LSA model demonstrated superior performance with a coherence score of\n",
        "0.8551 when tested with four topics. This higher score suggests that the topics identified are more meaningful and relevant to the documents analyzed. The LSA topics included clear\n",
        "and distinct themes such as governmental actions, market dynamics, football events, and environmental studies. Each topic featured keywords that accurately reflected the content of\n",
        "the documents, providing a more comprehensive understanding of the text. On the other hand, the BERTopic model did not yield any coherent topics or summaries, resulting in a failure\n",
        "to generate useful insights from the dataset. This limitation may stem from issues related to the model's configuration or the characteristics of the input data, which hindered its\n",
        "ability to extract meaningful topics effectively. In summary, LSA stands out as the best-performing algorithm among the three, providing well-defined and interpretable topics that\n",
        "enhance the understanding of the underlying themes in the text. LDA, while useful, delivered less clarity and cohesion, and BERTopic's inability to generate any summary rendered it\n",
        "ineffective for this analysis.\"\"\""
      ],
      "metadata": {
        "id": "OK34nZtojhmm",
        "colab": {
          "base_uri": "https://localhost:8080/",
          "height": 227
        },
        "outputId": "fc1f0d51-c8e7-4d9f-d0b4-90227cad5748"
      },
      "execution_count": 11,
      "outputs": [
        {
          "output_type": "execute_result",
          "data": {
            "text/plain": [
              "'When comparing the performance of the three topic modeling algorithms—LDA (Latent Dirichlet Allocation), LSA (Latent Semantic Analysis), and BERTopic—LSA emerges as the most \\neffective method for extracting meaningful topics from the dataset. The LDA model produced four topics with a coherence score of 0.3918. While this indicates some level of topic\\ncoherence, the topics generated were somewhat overlapping and less distinct. For instance, the topics included themes related to government policies, market trends, and climate\\nchange, but they did not clearly differentiate the nuances within these themes. The keywords for LDA topics also included frequent words such as \"new,\" \"significant,\" and \"government,\"\\nwhich may indicate less specificity in capturing the essence of the underlying documents. In contrast, the LSA model demonstrated superior performance with a coherence score of\\n0.8551 when tested with four topics. This higher score suggests that the topics identified are more meaningful and relevant to the documents analyzed. The LSA topics included clear\\nand distinct themes such as governmental actions, market dynamics, football events, and environmental studies. Each topic featured keywords that accurately reflected the content of\\nthe documents, providing a more comprehensive understanding of the text. On the other hand, the BERTopic model did not yield any coherent topics or summaries, resulting in a failure\\nto generate useful insights from the dataset. This limitation may stem from issues related to the model\\'s configuration or the characteristics of the input data, which hindered its\\nability to extract meaningful topics effectively. In summary, LSA stands out as the best-performing algorithm among the three, providing well-defined and interpretable topics that\\nenhance the understanding of the underlying themes in the text. LDA, while useful, delivered less clarity and cohesion, and BERTopic\\'s inability to generate any summary rendered it\\nineffective for this analysis.'"
            ],
            "application/vnd.google.colaboratory.intrinsic+json": {
              "type": "string"
            }
          },
          "metadata": {},
          "execution_count": 11
        }
      ]
    },
    {
      "cell_type": "markdown",
      "source": [
        "# Mandatory Question"
      ],
      "metadata": {
        "id": "VEs-OoDEhTW4"
      }
    },
    {
      "cell_type": "markdown",
      "source": [
        "**Important: Reflective Feedback on this exercise**\n",
        "\n",
        "Please provide your thoughts and feedback on the exercises you completed in this assignment.\n",
        "\n",
        "Consider the following points in your response:\n",
        "\n",
        "**Learning Experience:** Describe your overall learning experience in working with text data and extracting features using various topic modeling algorithms. Did you understand these algorithms and did the implementations helped in grasping the nuances of feature extraction from text data.\n",
        "\n",
        "**Challenges Encountered:** Were there specific difficulties in completing this exercise?\n",
        "\n",
        "Relevance to Your Field of Study: How does this exercise relate to the field of NLP?\n",
        "\n",
        "**(Your submission will not be graded if this question is left unanswered)**\n",
        "\n"
      ],
      "metadata": {
        "id": "IUKC7suYhVl0"
      }
    },
    {
      "cell_type": "code",
      "source": [
        "# Your answer here (no code for this question, write down your answer as detail as possible for the above questions):\n",
        "\n",
        "'''\n",
        "Please write you answer here:\n",
        "Throughout this assignment, I gained valuable insights into working with text data and learned how to use different topic modeling methods. I found that applying these algorithms\n",
        "helped me better understand how to extract meaningful information from text. However, I faced some challenges along the way, particularly with interpreting the results and ensuring\n",
        "that the models generated coherent topics. This exercise is particularly relevant to my studies in natural language processing (NLP), as it emphasizes the importance of feature\n",
        "extraction in analyzing and understanding language data.\n",
        "\n",
        "'''"
      ],
      "metadata": {
        "id": "CAq0DZWAhU9m",
        "colab": {
          "base_uri": "https://localhost:8080/",
          "height": 88
        },
        "outputId": "b55d2889-8ce7-424b-de22-a49f545a723a"
      },
      "execution_count": 12,
      "outputs": [
        {
          "output_type": "execute_result",
          "data": {
            "text/plain": [
              "'\\nPlease write you answer here:\\nThroughout this assignment, I gained valuable insights into working with text data and learned how to use different topic modeling methods. I found that applying these algorithms \\nhelped me better understand how to extract meaningful information from text. However, I faced some challenges along the way, particularly with interpreting the results and ensuring \\nthat the models generated coherent topics. This exercise is particularly relevant to my studies in natural language processing (NLP), as it emphasizes the importance of feature\\nextraction in analyzing and understanding language data.\\n\\n'"
            ],
            "application/vnd.google.colaboratory.intrinsic+json": {
              "type": "string"
            }
          },
          "metadata": {},
          "execution_count": 12
        }
      ]
    }
  ],
  "metadata": {
    "kernelspec": {
      "display_name": "Python 3 (ipykernel)",
      "language": "python",
      "name": "python3"
    },
    "language_info": {
      "codemirror_mode": {
        "name": "ipython",
        "version": 3
      },
      "file_extension": ".py",
      "mimetype": "text/x-python",
      "name": "python",
      "nbconvert_exporter": "python",
      "pygments_lexer": "ipython3",
      "version": "3.9.12"
    },
    "colab": {
      "provenance": [],
      "include_colab_link": true
    },
    "widgets": {
      "application/vnd.jupyter.widget-state+json": {
        "c0dfc65be65a4c5cbf36dfef2f2c5f9f": {
          "model_module": "@jupyter-widgets/controls",
          "model_name": "HBoxModel",
          "model_module_version": "1.5.0",
          "state": {
            "_dom_classes": [],
            "_model_module": "@jupyter-widgets/controls",
            "_model_module_version": "1.5.0",
            "_model_name": "HBoxModel",
            "_view_count": null,
            "_view_module": "@jupyter-widgets/controls",
            "_view_module_version": "1.5.0",
            "_view_name": "HBoxView",
            "box_style": "",
            "children": [
              "IPY_MODEL_13ef2ce1380f4f5b97c16702df6d520a",
              "IPY_MODEL_0ebead5a3027400281fbe8919c11106b",
              "IPY_MODEL_2d9fdce308024b7e97bb619df636a861"
            ],
            "layout": "IPY_MODEL_13f9e60583f64961b97ca5d136db6523"
          }
        },
        "13ef2ce1380f4f5b97c16702df6d520a": {
          "model_module": "@jupyter-widgets/controls",
          "model_name": "HTMLModel",
          "model_module_version": "1.5.0",
          "state": {
            "_dom_classes": [],
            "_model_module": "@jupyter-widgets/controls",
            "_model_module_version": "1.5.0",
            "_model_name": "HTMLModel",
            "_view_count": null,
            "_view_module": "@jupyter-widgets/controls",
            "_view_module_version": "1.5.0",
            "_view_name": "HTMLView",
            "description": "",
            "description_tooltip": null,
            "layout": "IPY_MODEL_a0986d7ae7fa413f9b9a0e3d9011d074",
            "placeholder": "​",
            "style": "IPY_MODEL_a43457b9519d4bbe88ab516b84269ff0",
            "value": "Batches: 100%"
          }
        },
        "0ebead5a3027400281fbe8919c11106b": {
          "model_module": "@jupyter-widgets/controls",
          "model_name": "FloatProgressModel",
          "model_module_version": "1.5.0",
          "state": {
            "_dom_classes": [],
            "_model_module": "@jupyter-widgets/controls",
            "_model_module_version": "1.5.0",
            "_model_name": "FloatProgressModel",
            "_view_count": null,
            "_view_module": "@jupyter-widgets/controls",
            "_view_module_version": "1.5.0",
            "_view_name": "ProgressView",
            "bar_style": "success",
            "description": "",
            "description_tooltip": null,
            "layout": "IPY_MODEL_ef5864d810994120bd170446f8eef9cf",
            "max": 1,
            "min": 0,
            "orientation": "horizontal",
            "style": "IPY_MODEL_24301b4af2ff457d976a5e91700b1a37",
            "value": 1
          }
        },
        "2d9fdce308024b7e97bb619df636a861": {
          "model_module": "@jupyter-widgets/controls",
          "model_name": "HTMLModel",
          "model_module_version": "1.5.0",
          "state": {
            "_dom_classes": [],
            "_model_module": "@jupyter-widgets/controls",
            "_model_module_version": "1.5.0",
            "_model_name": "HTMLModel",
            "_view_count": null,
            "_view_module": "@jupyter-widgets/controls",
            "_view_module_version": "1.5.0",
            "_view_name": "HTMLView",
            "description": "",
            "description_tooltip": null,
            "layout": "IPY_MODEL_08ea9da0dba2458e83dd54c355ae3334",
            "placeholder": "​",
            "style": "IPY_MODEL_b5bd17237cde4a498b68ee90abc713fb",
            "value": " 1/1 [00:00&lt;00:00,  9.97it/s]"
          }
        },
        "13f9e60583f64961b97ca5d136db6523": {
          "model_module": "@jupyter-widgets/base",
          "model_name": "LayoutModel",
          "model_module_version": "1.2.0",
          "state": {
            "_model_module": "@jupyter-widgets/base",
            "_model_module_version": "1.2.0",
            "_model_name": "LayoutModel",
            "_view_count": null,
            "_view_module": "@jupyter-widgets/base",
            "_view_module_version": "1.2.0",
            "_view_name": "LayoutView",
            "align_content": null,
            "align_items": null,
            "align_self": null,
            "border": null,
            "bottom": null,
            "display": null,
            "flex": null,
            "flex_flow": null,
            "grid_area": null,
            "grid_auto_columns": null,
            "grid_auto_flow": null,
            "grid_auto_rows": null,
            "grid_column": null,
            "grid_gap": null,
            "grid_row": null,
            "grid_template_areas": null,
            "grid_template_columns": null,
            "grid_template_rows": null,
            "height": null,
            "justify_content": null,
            "justify_items": null,
            "left": null,
            "margin": null,
            "max_height": null,
            "max_width": null,
            "min_height": null,
            "min_width": null,
            "object_fit": null,
            "object_position": null,
            "order": null,
            "overflow": null,
            "overflow_x": null,
            "overflow_y": null,
            "padding": null,
            "right": null,
            "top": null,
            "visibility": null,
            "width": null
          }
        },
        "a0986d7ae7fa413f9b9a0e3d9011d074": {
          "model_module": "@jupyter-widgets/base",
          "model_name": "LayoutModel",
          "model_module_version": "1.2.0",
          "state": {
            "_model_module": "@jupyter-widgets/base",
            "_model_module_version": "1.2.0",
            "_model_name": "LayoutModel",
            "_view_count": null,
            "_view_module": "@jupyter-widgets/base",
            "_view_module_version": "1.2.0",
            "_view_name": "LayoutView",
            "align_content": null,
            "align_items": null,
            "align_self": null,
            "border": null,
            "bottom": null,
            "display": null,
            "flex": null,
            "flex_flow": null,
            "grid_area": null,
            "grid_auto_columns": null,
            "grid_auto_flow": null,
            "grid_auto_rows": null,
            "grid_column": null,
            "grid_gap": null,
            "grid_row": null,
            "grid_template_areas": null,
            "grid_template_columns": null,
            "grid_template_rows": null,
            "height": null,
            "justify_content": null,
            "justify_items": null,
            "left": null,
            "margin": null,
            "max_height": null,
            "max_width": null,
            "min_height": null,
            "min_width": null,
            "object_fit": null,
            "object_position": null,
            "order": null,
            "overflow": null,
            "overflow_x": null,
            "overflow_y": null,
            "padding": null,
            "right": null,
            "top": null,
            "visibility": null,
            "width": null
          }
        },
        "a43457b9519d4bbe88ab516b84269ff0": {
          "model_module": "@jupyter-widgets/controls",
          "model_name": "DescriptionStyleModel",
          "model_module_version": "1.5.0",
          "state": {
            "_model_module": "@jupyter-widgets/controls",
            "_model_module_version": "1.5.0",
            "_model_name": "DescriptionStyleModel",
            "_view_count": null,
            "_view_module": "@jupyter-widgets/base",
            "_view_module_version": "1.2.0",
            "_view_name": "StyleView",
            "description_width": ""
          }
        },
        "ef5864d810994120bd170446f8eef9cf": {
          "model_module": "@jupyter-widgets/base",
          "model_name": "LayoutModel",
          "model_module_version": "1.2.0",
          "state": {
            "_model_module": "@jupyter-widgets/base",
            "_model_module_version": "1.2.0",
            "_model_name": "LayoutModel",
            "_view_count": null,
            "_view_module": "@jupyter-widgets/base",
            "_view_module_version": "1.2.0",
            "_view_name": "LayoutView",
            "align_content": null,
            "align_items": null,
            "align_self": null,
            "border": null,
            "bottom": null,
            "display": null,
            "flex": null,
            "flex_flow": null,
            "grid_area": null,
            "grid_auto_columns": null,
            "grid_auto_flow": null,
            "grid_auto_rows": null,
            "grid_column": null,
            "grid_gap": null,
            "grid_row": null,
            "grid_template_areas": null,
            "grid_template_columns": null,
            "grid_template_rows": null,
            "height": null,
            "justify_content": null,
            "justify_items": null,
            "left": null,
            "margin": null,
            "max_height": null,
            "max_width": null,
            "min_height": null,
            "min_width": null,
            "object_fit": null,
            "object_position": null,
            "order": null,
            "overflow": null,
            "overflow_x": null,
            "overflow_y": null,
            "padding": null,
            "right": null,
            "top": null,
            "visibility": null,
            "width": null
          }
        },
        "24301b4af2ff457d976a5e91700b1a37": {
          "model_module": "@jupyter-widgets/controls",
          "model_name": "ProgressStyleModel",
          "model_module_version": "1.5.0",
          "state": {
            "_model_module": "@jupyter-widgets/controls",
            "_model_module_version": "1.5.0",
            "_model_name": "ProgressStyleModel",
            "_view_count": null,
            "_view_module": "@jupyter-widgets/base",
            "_view_module_version": "1.2.0",
            "_view_name": "StyleView",
            "bar_color": null,
            "description_width": ""
          }
        },
        "08ea9da0dba2458e83dd54c355ae3334": {
          "model_module": "@jupyter-widgets/base",
          "model_name": "LayoutModel",
          "model_module_version": "1.2.0",
          "state": {
            "_model_module": "@jupyter-widgets/base",
            "_model_module_version": "1.2.0",
            "_model_name": "LayoutModel",
            "_view_count": null,
            "_view_module": "@jupyter-widgets/base",
            "_view_module_version": "1.2.0",
            "_view_name": "LayoutView",
            "align_content": null,
            "align_items": null,
            "align_self": null,
            "border": null,
            "bottom": null,
            "display": null,
            "flex": null,
            "flex_flow": null,
            "grid_area": null,
            "grid_auto_columns": null,
            "grid_auto_flow": null,
            "grid_auto_rows": null,
            "grid_column": null,
            "grid_gap": null,
            "grid_row": null,
            "grid_template_areas": null,
            "grid_template_columns": null,
            "grid_template_rows": null,
            "height": null,
            "justify_content": null,
            "justify_items": null,
            "left": null,
            "margin": null,
            "max_height": null,
            "max_width": null,
            "min_height": null,
            "min_width": null,
            "object_fit": null,
            "object_position": null,
            "order": null,
            "overflow": null,
            "overflow_x": null,
            "overflow_y": null,
            "padding": null,
            "right": null,
            "top": null,
            "visibility": null,
            "width": null
          }
        },
        "b5bd17237cde4a498b68ee90abc713fb": {
          "model_module": "@jupyter-widgets/controls",
          "model_name": "DescriptionStyleModel",
          "model_module_version": "1.5.0",
          "state": {
            "_model_module": "@jupyter-widgets/controls",
            "_model_module_version": "1.5.0",
            "_model_name": "DescriptionStyleModel",
            "_view_count": null,
            "_view_module": "@jupyter-widgets/base",
            "_view_module_version": "1.2.0",
            "_view_name": "StyleView",
            "description_width": ""
          }
        }
      }
    }
  },
  "nbformat": 4,
  "nbformat_minor": 0
}